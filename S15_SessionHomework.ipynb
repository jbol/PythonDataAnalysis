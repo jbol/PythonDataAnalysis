{
 "cells": [
  {
   "cell_type": "markdown",
   "id": "9506ec7a-5227-4c22-9c4d-2a31757c91bf",
   "metadata": {},
   "source": [
    "# Exercise 1: Exploratory Analysis over the `time-travel` dataset\n",
    "\n",
    "Load the `travel-times-na.csv` data\n",
    "\n",
    "**Answer the following questions:**\n",
    "\n",
    "1. PART 1: Perform a complete data quality assessment\n",
    "   1. Are there duplicated entries in this dataset? If any, remove them.\n",
    "   1. Check and correct data types in case they are not correct\n",
    "   1. Are there missing values in this dataset? Get the distribution of missing values per column (the proportion of missing values).\n",
    "   1. If any, fill the missing values following this instructions:\n",
    "      - If the proportion of missing values is greater than 80%, remove the column.\n",
    "      - If not:\n",
    "         - For numeric columns, use the mean value of the column\n",
    "         - For string columns, use the most repeated value (the mode)\n",
    "---         \n",
    "         \n",
    "2. PART 2: Using the resulting dataset from the previous data quality process, answer the following questions\n",
    "   1. In what date the trip started earlier?\n",
    "   1. What trip was the fastest (in terms of TotalTime)?\n",
    "   1. When was the longest trip to home?\n",
    "   1. What's the mean of the `AvgMovingSpeed` per `DayOfWeek`?\n",
    "   1. Create a new column called `NotMovingTime` with the time the car was not moving. Get the mean of `NotMovingTime` per hour of day. _(Challenge: To get the hour of the day you will need to extract the two first digits of `StartTime`. Find on the internet how to do this directly with pandas in just one operation)_\n",
    "   1. How many different days (in the trip to GSK) the 407 highway was taken? Does this days this guy saved time (in average) compared to the days the toll highway was not taken?\n",
    "\n",
    "---\n",
    "   \n",
    "3. PART 3 (BONUS): Now, we are trying to implement a more sophisticated imputation method for missing values in `AvgSpeed`, `AvgMovingSpeed`, `TotalTime` and `MovingTime`.\n",
    "   - Create a now column named `DayZone` with values `EarlyMorning` or `LateMorning`, `EarlyEvening` and `LateEvening` depending on the `StartTime`:\n",
    "      - `EarlyMorning` - Before 8:00\n",
    "      - `LateMorning` - After 8:00 (included) and Before 12:00\n",
    "      - `EarlyEvening` - Before 17:00 and After 12:00\n",
    "      - `LateEvening` - After 17:00 (included)\n",
    "   - Fill the missing values with the corresponding mean value given the `DayZone` and `DayOfWeek`, that is, if there is a missing value for a Friday in the early morning, fill it just with the mean speed calculated from all Fridays in the early morning.\n",
    "      - Hint: First calculate the average of the columns by `DayZone` and `DayOfWeek`. Then, use this auxiliary table to fill missing values (`pd.combine_first`)\n",
    "      "
   ]
  },
  {
   "cell_type": "code",
   "execution_count": 129,
   "id": "33c569db-2311-46f3-9f86-d0322829de04",
   "metadata": {},
   "outputs": [],
   "source": [
    "import pandas as pd\n",
    "import numpy as np\n",
    "\n",
    "# from pandas_profiling import ProfileReport"
   ]
  },
  {
   "cell_type": "code",
   "execution_count": 130,
   "id": "c174e759-f3e6-4478-87d9-436e6bb0be11",
   "metadata": {},
   "outputs": [],
   "source": [
    "df = pd.read_csv(\"data/travel-times-na.csv\")"
   ]
  },
  {
   "cell_type": "code",
   "execution_count": 131,
   "id": "8c35fc3a-47a0-48f2-8403-88893f01db06",
   "metadata": {},
   "outputs": [
    {
     "data": {
      "text/html": [
       "<div>\n",
       "<style scoped>\n",
       "    .dataframe tbody tr th:only-of-type {\n",
       "        vertical-align: middle;\n",
       "    }\n",
       "\n",
       "    .dataframe tbody tr th {\n",
       "        vertical-align: top;\n",
       "    }\n",
       "\n",
       "    .dataframe thead th {\n",
       "        text-align: right;\n",
       "    }\n",
       "</style>\n",
       "<table border=\"1\" class=\"dataframe\">\n",
       "  <thead>\n",
       "    <tr style=\"text-align: right;\">\n",
       "      <th></th>\n",
       "      <th>Date</th>\n",
       "      <th>StartTime</th>\n",
       "      <th>DayOfWeek</th>\n",
       "      <th>GoingTo</th>\n",
       "      <th>Distance</th>\n",
       "      <th>MaxSpeed</th>\n",
       "      <th>AvgSpeed</th>\n",
       "      <th>AvgMovingSpeed</th>\n",
       "      <th>FuelEconomy</th>\n",
       "      <th>TotalTime</th>\n",
       "      <th>MovingTime</th>\n",
       "      <th>Take407All</th>\n",
       "      <th>Comments</th>\n",
       "    </tr>\n",
       "  </thead>\n",
       "  <tbody>\n",
       "    <tr>\n",
       "      <th>0</th>\n",
       "      <td>1/6/2012</td>\n",
       "      <td>16:37</td>\n",
       "      <td>Friday</td>\n",
       "      <td>Home</td>\n",
       "      <td>51.29</td>\n",
       "      <td>127.4</td>\n",
       "      <td>78.3</td>\n",
       "      <td>84.8</td>\n",
       "      <td>NaN</td>\n",
       "      <td>39.3</td>\n",
       "      <td>36.3</td>\n",
       "      <td>No</td>\n",
       "      <td>NaN</td>\n",
       "    </tr>\n",
       "    <tr>\n",
       "      <th>1</th>\n",
       "      <td>1/6/2012</td>\n",
       "      <td>08:20</td>\n",
       "      <td>Friday</td>\n",
       "      <td>GSK</td>\n",
       "      <td>51.63</td>\n",
       "      <td>130.3</td>\n",
       "      <td>81.8</td>\n",
       "      <td>88.9</td>\n",
       "      <td>NaN</td>\n",
       "      <td>37.9</td>\n",
       "      <td>34.9</td>\n",
       "      <td>No</td>\n",
       "      <td>NaN</td>\n",
       "    </tr>\n",
       "    <tr>\n",
       "      <th>2</th>\n",
       "      <td>1/4/2012</td>\n",
       "      <td>16:17</td>\n",
       "      <td>Wednesday</td>\n",
       "      <td>Home</td>\n",
       "      <td>51.27</td>\n",
       "      <td>127.4</td>\n",
       "      <td>82.0</td>\n",
       "      <td>85.8</td>\n",
       "      <td>NaN</td>\n",
       "      <td>37.5</td>\n",
       "      <td>35.9</td>\n",
       "      <td>No</td>\n",
       "      <td>NaN</td>\n",
       "    </tr>\n",
       "    <tr>\n",
       "      <th>3</th>\n",
       "      <td>1/4/2012</td>\n",
       "      <td>07:53</td>\n",
       "      <td>Wednesday</td>\n",
       "      <td>GSK</td>\n",
       "      <td>49.17</td>\n",
       "      <td>132.3</td>\n",
       "      <td>74.2</td>\n",
       "      <td>82.9</td>\n",
       "      <td>NaN</td>\n",
       "      <td>39.8</td>\n",
       "      <td>35.6</td>\n",
       "      <td>No</td>\n",
       "      <td>NaN</td>\n",
       "    </tr>\n",
       "    <tr>\n",
       "      <th>4</th>\n",
       "      <td>1/3/2012</td>\n",
       "      <td>18:57</td>\n",
       "      <td>Tuesday</td>\n",
       "      <td>Home</td>\n",
       "      <td>51.15</td>\n",
       "      <td>136.2</td>\n",
       "      <td>83.4</td>\n",
       "      <td>88.1</td>\n",
       "      <td>NaN</td>\n",
       "      <td>36.8</td>\n",
       "      <td>34.8</td>\n",
       "      <td>No</td>\n",
       "      <td>NaN</td>\n",
       "    </tr>\n",
       "  </tbody>\n",
       "</table>\n",
       "</div>"
      ],
      "text/plain": [
       "       Date StartTime  DayOfWeek GoingTo  Distance  MaxSpeed  AvgSpeed  \\\n",
       "0  1/6/2012     16:37     Friday    Home     51.29     127.4      78.3   \n",
       "1  1/6/2012     08:20     Friday     GSK     51.63     130.3      81.8   \n",
       "2  1/4/2012     16:17  Wednesday    Home     51.27     127.4      82.0   \n",
       "3  1/4/2012     07:53  Wednesday     GSK     49.17     132.3      74.2   \n",
       "4  1/3/2012     18:57    Tuesday    Home     51.15     136.2      83.4   \n",
       "\n",
       "   AvgMovingSpeed  FuelEconomy  TotalTime  MovingTime Take407All Comments  \n",
       "0            84.8          NaN       39.3        36.3         No      NaN  \n",
       "1            88.9          NaN       37.9        34.9         No      NaN  \n",
       "2            85.8          NaN       37.5        35.9         No      NaN  \n",
       "3            82.9          NaN       39.8        35.6         No      NaN  \n",
       "4            88.1          NaN       36.8        34.8         No      NaN  "
      ]
     },
     "execution_count": 131,
     "metadata": {},
     "output_type": "execute_result"
    }
   ],
   "source": [
    "df.head()"
   ]
  },
  {
   "cell_type": "markdown",
   "id": "f6b605f0-d7eb-49aa-b880-6e91f8dcb0e0",
   "metadata": {},
   "source": [
    "## 1. PART 1"
   ]
  },
  {
   "cell_type": "markdown",
   "id": "ac20625a-43b3-495b-83d4-3999d9397ea1",
   "metadata": {},
   "source": [
    "At this point, let's get a profile report with Pandas Profiling to figure out what's the state of data"
   ]
  },
  {
   "cell_type": "raw",
   "id": "b3203cd7-9f9f-4d9b-b215-fcf7b19d8c8d",
   "metadata": {},
   "source": [
    "profile = ProfileReport(df)"
   ]
  },
  {
   "cell_type": "raw",
   "id": "a19a38db-baa9-4199-925a-dea704c3100d",
   "metadata": {
    "jupyter": {
     "outputs_hidden": true
    },
    "tags": []
   },
   "source": [
    "profile"
   ]
  },
  {
   "cell_type": "markdown",
   "id": "80d8f293-e30f-4b5b-8190-743179a62f64",
   "metadata": {},
   "source": [
    "#### A. Are there duplicated entries in this dataset? If any, remove them."
   ]
  },
  {
   "cell_type": "code",
   "execution_count": 132,
   "id": "6e7ff871-0d89-45e7-8e05-aaa72f8ef423",
   "metadata": {},
   "outputs": [
    {
     "data": {
      "text/plain": [
       "False"
      ]
     },
     "execution_count": 132,
     "metadata": {},
     "output_type": "execute_result"
    }
   ],
   "source": [
    "df.duplicated().any()"
   ]
  },
  {
   "cell_type": "markdown",
   "id": "8ec1e157-c678-40e3-ad99-ce9c70f70f1a",
   "metadata": {},
   "source": [
    "There are no duplicated entries"
   ]
  },
  {
   "cell_type": "code",
   "execution_count": 133,
   "id": "8721fb77-3c27-4f37-bf02-a3258fd5f1e4",
   "metadata": {},
   "outputs": [
    {
     "name": "stdout",
     "output_type": "stream",
     "text": [
      "<class 'pandas.core.frame.DataFrame'>\n",
      "RangeIndex: 205 entries, 0 to 204\n",
      "Data columns (total 13 columns):\n",
      " #   Column          Non-Null Count  Dtype  \n",
      "---  ------          --------------  -----  \n",
      " 0   Date            205 non-null    object \n",
      " 1   StartTime       205 non-null    object \n",
      " 2   DayOfWeek       205 non-null    object \n",
      " 3   GoingTo         205 non-null    object \n",
      " 4   Distance        205 non-null    float64\n",
      " 5   MaxSpeed        187 non-null    float64\n",
      " 6   AvgSpeed        187 non-null    float64\n",
      " 7   AvgMovingSpeed  205 non-null    float64\n",
      " 8   FuelEconomy     186 non-null    float64\n",
      " 9   TotalTime       187 non-null    float64\n",
      " 10  MovingTime      187 non-null    float64\n",
      " 11  Take407All      205 non-null    object \n",
      " 12  Comments        24 non-null     object \n",
      "dtypes: float64(7), object(6)\n",
      "memory usage: 20.9+ KB\n"
     ]
    }
   ],
   "source": [
    "df.info()"
   ]
  },
  {
   "cell_type": "markdown",
   "id": "cd4b679d-f88a-422d-8e9b-2e0ba3bd7227",
   "metadata": {},
   "source": [
    "#### B. Check and correct data types in case they are not correct"
   ]
  },
  {
   "cell_type": "code",
   "execution_count": 134,
   "id": "f75dc965-10d1-4196-9535-1de1b128ac14",
   "metadata": {},
   "outputs": [],
   "source": [
    "df[\"Datetime\"] = df.Date + \" \" + df.StartTime"
   ]
  },
  {
   "cell_type": "code",
   "execution_count": 135,
   "id": "0c45091e-0204-4435-ab25-aa564d4a31f5",
   "metadata": {},
   "outputs": [],
   "source": [
    "df.Datetime = pd.to_datetime(df.Datetime)"
   ]
  },
  {
   "cell_type": "code",
   "execution_count": 136,
   "id": "04e7adc3-9768-46fe-98dd-f5d1e2bf973d",
   "metadata": {},
   "outputs": [],
   "source": [
    "df.Date = pd.to_datetime(df.Date)"
   ]
  },
  {
   "cell_type": "markdown",
   "id": "c016801b-6461-437e-9605-e0ef67ce55a0",
   "metadata": {},
   "source": [
    "#### B. Are there missing values in this dataset? Get the distribution of missing values per column (the proportion of missing values)."
   ]
  },
  {
   "cell_type": "code",
   "execution_count": 137,
   "id": "0e3745cf-0f2d-45e1-9fca-f4600d41fd8a",
   "metadata": {},
   "outputs": [
    {
     "name": "stdout",
     "output_type": "stream",
     "text": [
      "<class 'pandas.core.frame.DataFrame'>\n",
      "RangeIndex: 205 entries, 0 to 204\n",
      "Data columns (total 14 columns):\n",
      " #   Column          Non-Null Count  Dtype         \n",
      "---  ------          --------------  -----         \n",
      " 0   Date            205 non-null    datetime64[ns]\n",
      " 1   StartTime       205 non-null    object        \n",
      " 2   DayOfWeek       205 non-null    object        \n",
      " 3   GoingTo         205 non-null    object        \n",
      " 4   Distance        205 non-null    float64       \n",
      " 5   MaxSpeed        187 non-null    float64       \n",
      " 6   AvgSpeed        187 non-null    float64       \n",
      " 7   AvgMovingSpeed  205 non-null    float64       \n",
      " 8   FuelEconomy     186 non-null    float64       \n",
      " 9   TotalTime       187 non-null    float64       \n",
      " 10  MovingTime      187 non-null    float64       \n",
      " 11  Take407All      205 non-null    object        \n",
      " 12  Comments        24 non-null     object        \n",
      " 13  Datetime        205 non-null    datetime64[ns]\n",
      "dtypes: datetime64[ns](2), float64(7), object(5)\n",
      "memory usage: 22.5+ KB\n"
     ]
    }
   ],
   "source": [
    "df.info()"
   ]
  },
  {
   "cell_type": "code",
   "execution_count": 138,
   "id": "78a978ca-ea25-4b33-a50d-aa34cf329f62",
   "metadata": {},
   "outputs": [
    {
     "data": {
      "text/plain": [
       "Comments          88.292683\n",
       "FuelEconomy        9.268293\n",
       "MaxSpeed           8.780488\n",
       "AvgSpeed           8.780488\n",
       "TotalTime          8.780488\n",
       "MovingTime         8.780488\n",
       "Date               0.000000\n",
       "StartTime          0.000000\n",
       "DayOfWeek          0.000000\n",
       "GoingTo            0.000000\n",
       "Distance           0.000000\n",
       "AvgMovingSpeed     0.000000\n",
       "Take407All         0.000000\n",
       "Datetime           0.000000\n",
       "dtype: float64"
      ]
     },
     "execution_count": 138,
     "metadata": {},
     "output_type": "execute_result"
    }
   ],
   "source": [
    "null_pct = df.isnull().sum() / len(df) * 100\n",
    "null_pct.sort_values(ascending=False)"
   ]
  },
  {
   "cell_type": "code",
   "execution_count": 139,
   "id": "cd14e94f-88cc-4de8-9741-cd66ec0e96d3",
   "metadata": {},
   "outputs": [
    {
     "data": {
      "text/plain": [
       "<AxesSubplot:title={'center':'% of Missing Values'}>"
      ]
     },
     "execution_count": 139,
     "metadata": {},
     "output_type": "execute_result"
    },
    {
     "data": {
      "image/png": "[encoded data removed]",
      "text/plain": [
       "<Figure size 432x288 with 1 Axes>"
      ]
     },
     "metadata": {
      "needs_background": "light"
     },
     "output_type": "display_data"
    }
   ],
   "source": [
    "# represent the results in a plot\n",
    "null_pct.sort_values(ascending=False).plot(kind=\"bar\", rot=45, title=\"% of Missing Values\", grid=True)"
   ]
  },
  {
   "cell_type": "markdown",
   "id": "03c34d7c-05c9-43f6-aa26-cd7298f44c6e",
   "metadata": {},
   "source": [
    "#### C. If any, fill the missing values following this instructions:\n",
    "- If the proportion of missing values is greater than 80%, remove the column.\n",
    "- If not:\n",
    "   - For numeric columns, use the mean value of the column\n",
    "   - For string columns, use the most repeated value (the mode)"
   ]
  },
  {
   "cell_type": "markdown",
   "id": "58999c93-3b9a-4823-95e4-764580b25510",
   "metadata": {},
   "source": [
    "Only the `Comments` column have more than 80% of missing values. Let's drop the column"
   ]
  },
  {
   "cell_type": "code",
   "execution_count": 140,
   "id": "9606152a-f129-476c-a886-c04ed88d066b",
   "metadata": {},
   "outputs": [],
   "source": [
    "df = df.drop(columns=[\"Comments\"])"
   ]
  },
  {
   "cell_type": "code",
   "execution_count": 141,
   "id": "f95f0502-8bb6-484a-989e-4a37d4224c27",
   "metadata": {},
   "outputs": [
    {
     "name": "stdout",
     "output_type": "stream",
     "text": [
      "<class 'pandas.core.frame.DataFrame'>\n",
      "RangeIndex: 205 entries, 0 to 204\n",
      "Data columns (total 13 columns):\n",
      " #   Column          Non-Null Count  Dtype         \n",
      "---  ------          --------------  -----         \n",
      " 0   Date            205 non-null    datetime64[ns]\n",
      " 1   StartTime       205 non-null    object        \n",
      " 2   DayOfWeek       205 non-null    object        \n",
      " 3   GoingTo         205 non-null    object        \n",
      " 4   Distance        205 non-null    float64       \n",
      " 5   MaxSpeed        187 non-null    float64       \n",
      " 6   AvgSpeed        187 non-null    float64       \n",
      " 7   AvgMovingSpeed  205 non-null    float64       \n",
      " 8   FuelEconomy     186 non-null    float64       \n",
      " 9   TotalTime       187 non-null    float64       \n",
      " 10  MovingTime      187 non-null    float64       \n",
      " 11  Take407All      205 non-null    object        \n",
      " 12  Datetime        205 non-null    datetime64[ns]\n",
      "dtypes: datetime64[ns](2), float64(7), object(4)\n",
      "memory usage: 20.9+ KB\n"
     ]
    }
   ],
   "source": [
    "df.info()"
   ]
  },
  {
   "cell_type": "markdown",
   "id": "264a8cfe-feb1-4bd1-b170-6ed02d0bb5b0",
   "metadata": {},
   "source": [
    "The rest of the columns with missing values (< 80%) are `MaxSpeed`, `AvgSpeed`, `TotalTime`, `MovingTime` and `FuelEconomy`. All of them are numeric, son let's fill with the mean."
   ]
  },
  {
   "cell_type": "code",
   "execution_count": 142,
   "id": "b494ce9e-3f1f-4280-a138-be4e84c14d5b",
   "metadata": {},
   "outputs": [],
   "source": [
    "df = df.fillna({\n",
    "    \"MaxSpeed\": df.MaxSpeed.mean(),\n",
    "    \"AvgSpeed\": df.AvgSpeed.mean(),\n",
    "    \"TotalTime\": df.TotalTime.mean(),\n",
    "    \"MovingTime\": df.MovingTime.mean(),\n",
    "    \"FuelEconomy\": df.FuelEconomy.mean()\n",
    "})"
   ]
  },
  {
   "cell_type": "code",
   "execution_count": 143,
   "id": "2845a109-115c-47e6-92ff-097ca558e4ac",
   "metadata": {},
   "outputs": [
    {
     "name": "stdout",
     "output_type": "stream",
     "text": [
      "<class 'pandas.core.frame.DataFrame'>\n",
      "RangeIndex: 205 entries, 0 to 204\n",
      "Data columns (total 13 columns):\n",
      " #   Column          Non-Null Count  Dtype         \n",
      "---  ------          --------------  -----         \n",
      " 0   Date            205 non-null    datetime64[ns]\n",
      " 1   StartTime       205 non-null    object        \n",
      " 2   DayOfWeek       205 non-null    object        \n",
      " 3   GoingTo         205 non-null    object        \n",
      " 4   Distance        205 non-null    float64       \n",
      " 5   MaxSpeed        205 non-null    float64       \n",
      " 6   AvgSpeed        205 non-null    float64       \n",
      " 7   AvgMovingSpeed  205 non-null    float64       \n",
      " 8   FuelEconomy     205 non-null    float64       \n",
      " 9   TotalTime       205 non-null    float64       \n",
      " 10  MovingTime      205 non-null    float64       \n",
      " 11  Take407All      205 non-null    object        \n",
      " 12  Datetime        205 non-null    datetime64[ns]\n",
      "dtypes: datetime64[ns](2), float64(7), object(4)\n",
      "memory usage: 20.9+ KB\n"
     ]
    }
   ],
   "source": [
    "df.info()"
   ]
  },
  {
   "cell_type": "markdown",
   "id": "cb86c205-690f-40eb-9b7f-6ec8c6e35955",
   "metadata": {},
   "source": [
    "## 2. PART 2"
   ]
  },
  {
   "cell_type": "markdown",
   "id": "ee4157f2-11fe-4f0f-a77a-044037b3303a",
   "metadata": {},
   "source": [
    "### A. On what date the trip started earlier?"
   ]
  },
  {
   "cell_type": "code",
   "execution_count": 144,
   "id": "039127f2-870b-40ea-98f1-a3b055244f5f",
   "metadata": {},
   "outputs": [
    {
     "data": {
      "text/html": [
       "<div>\n",
       "<style scoped>\n",
       "    .dataframe tbody tr th:only-of-type {\n",
       "        vertical-align: middle;\n",
       "    }\n",
       "\n",
       "    .dataframe tbody tr th {\n",
       "        vertical-align: top;\n",
       "    }\n",
       "\n",
       "    .dataframe thead th {\n",
       "        text-align: right;\n",
       "    }\n",
       "</style>\n",
       "<table border=\"1\" class=\"dataframe\">\n",
       "  <thead>\n",
       "    <tr style=\"text-align: right;\">\n",
       "      <th></th>\n",
       "      <th>Date</th>\n",
       "      <th>StartTime</th>\n",
       "      <th>DayOfWeek</th>\n",
       "      <th>GoingTo</th>\n",
       "      <th>Distance</th>\n",
       "      <th>MaxSpeed</th>\n",
       "      <th>AvgSpeed</th>\n",
       "      <th>AvgMovingSpeed</th>\n",
       "      <th>FuelEconomy</th>\n",
       "      <th>TotalTime</th>\n",
       "      <th>MovingTime</th>\n",
       "      <th>Take407All</th>\n",
       "      <th>Datetime</th>\n",
       "    </tr>\n",
       "  </thead>\n",
       "  <tbody>\n",
       "    <tr>\n",
       "      <th>13</th>\n",
       "      <td>2011-12-20</td>\n",
       "      <td>06:04</td>\n",
       "      <td>Tuesday</td>\n",
       "      <td>GSK</td>\n",
       "      <td>49.01</td>\n",
       "      <td>119.0</td>\n",
       "      <td>77.4</td>\n",
       "      <td>82.0</td>\n",
       "      <td>8.89</td>\n",
       "      <td>38.0</td>\n",
       "      <td>35.9</td>\n",
       "      <td>No</td>\n",
       "      <td>2011-12-20 06:04:00</td>\n",
       "    </tr>\n",
       "  </tbody>\n",
       "</table>\n",
       "</div>"
      ],
      "text/plain": [
       "         Date StartTime DayOfWeek GoingTo  Distance  MaxSpeed  AvgSpeed  \\\n",
       "13 2011-12-20     06:04   Tuesday     GSK     49.01     119.0      77.4   \n",
       "\n",
       "    AvgMovingSpeed  FuelEconomy  TotalTime  MovingTime Take407All  \\\n",
       "13            82.0         8.89       38.0        35.9         No   \n",
       "\n",
       "              Datetime  \n",
       "13 2011-12-20 06:04:00  "
      ]
     },
     "execution_count": 144,
     "metadata": {},
     "output_type": "execute_result"
    }
   ],
   "source": [
    "# we can apply the min function to a string (ordered alphabetically, so it works with numbers also)\n",
    "df[df.StartTime == df.StartTime.min()]"
   ]
  },
  {
   "cell_type": "code",
   "execution_count": 145,
   "id": "450de020-5881-4371-952e-699caf4f6f01",
   "metadata": {},
   "outputs": [
    {
     "data": {
      "text/plain": [
       "13   2011-12-20\n",
       "Name: Date, dtype: datetime64[ns]"
      ]
     },
     "execution_count": 145,
     "metadata": {},
     "output_type": "execute_result"
    }
   ],
   "source": [
    "# other way, just to get the Date\n",
    "df.loc[df.StartTime == df.StartTime.min(), \"Date\"]"
   ]
  },
  {
   "cell_type": "markdown",
   "id": "251ff852-3125-4c94-8b48-398ed9dbb25f",
   "metadata": {},
   "source": [
    "It was on 12/20/2011"
   ]
  },
  {
   "cell_type": "markdown",
   "id": "d5243ec6-578c-490a-8382-9ba7795855ed",
   "metadata": {},
   "source": [
    "### B. What trip was the fastest (in terms of TotalTime)?"
   ]
  },
  {
   "cell_type": "code",
   "execution_count": 146,
   "id": "f51d094b-0a80-4f94-b243-07621789dfab",
   "metadata": {},
   "outputs": [
    {
     "data": {
      "text/html": [
       "<div>\n",
       "<style scoped>\n",
       "    .dataframe tbody tr th:only-of-type {\n",
       "        vertical-align: middle;\n",
       "    }\n",
       "\n",
       "    .dataframe tbody tr th {\n",
       "        vertical-align: top;\n",
       "    }\n",
       "\n",
       "    .dataframe thead th {\n",
       "        text-align: right;\n",
       "    }\n",
       "</style>\n",
       "<table border=\"1\" class=\"dataframe\">\n",
       "  <thead>\n",
       "    <tr style=\"text-align: right;\">\n",
       "      <th></th>\n",
       "      <th>Date</th>\n",
       "      <th>StartTime</th>\n",
       "      <th>DayOfWeek</th>\n",
       "      <th>GoingTo</th>\n",
       "      <th>Distance</th>\n",
       "      <th>MaxSpeed</th>\n",
       "      <th>AvgSpeed</th>\n",
       "      <th>AvgMovingSpeed</th>\n",
       "      <th>FuelEconomy</th>\n",
       "      <th>TotalTime</th>\n",
       "      <th>MovingTime</th>\n",
       "      <th>Take407All</th>\n",
       "      <th>Datetime</th>\n",
       "    </tr>\n",
       "  </thead>\n",
       "  <tbody>\n",
       "    <tr>\n",
       "      <th>49</th>\n",
       "      <td>2011-11-21</td>\n",
       "      <td>07:24</td>\n",
       "      <td>Monday</td>\n",
       "      <td>GSK</td>\n",
       "      <td>52.25</td>\n",
       "      <td>127.3</td>\n",
       "      <td>38.1</td>\n",
       "      <td>50.3</td>\n",
       "      <td>10.05</td>\n",
       "      <td>82.3</td>\n",
       "      <td>62.4</td>\n",
       "      <td>No</td>\n",
       "      <td>2011-11-21 07:24:00</td>\n",
       "    </tr>\n",
       "  </tbody>\n",
       "</table>\n",
       "</div>"
      ],
      "text/plain": [
       "         Date StartTime DayOfWeek GoingTo  Distance  MaxSpeed  AvgSpeed  \\\n",
       "49 2011-11-21     07:24    Monday     GSK     52.25     127.3      38.1   \n",
       "\n",
       "    AvgMovingSpeed  FuelEconomy  TotalTime  MovingTime Take407All  \\\n",
       "49            50.3        10.05       82.3        62.4         No   \n",
       "\n",
       "              Datetime  \n",
       "49 2011-11-21 07:24:00  "
      ]
     },
     "execution_count": 146,
     "metadata": {},
     "output_type": "execute_result"
    }
   ],
   "source": [
    "# the same as before\n",
    "df[df.TotalTime == df.TotalTime.max()]"
   ]
  },
  {
   "cell_type": "markdown",
   "id": "42887f5a-ab68-4575-a562-c9b3266cc3c3",
   "metadata": {},
   "source": [
    "### C. When was the longest trip to home?"
   ]
  },
  {
   "cell_type": "code",
   "execution_count": 147,
   "id": "1672e40c-c97a-4a70-a539-fd5317642146",
   "metadata": {},
   "outputs": [
    {
     "data": {
      "text/html": [
       "<div>\n",
       "<style scoped>\n",
       "    .dataframe tbody tr th:only-of-type {\n",
       "        vertical-align: middle;\n",
       "    }\n",
       "\n",
       "    .dataframe tbody tr th {\n",
       "        vertical-align: top;\n",
       "    }\n",
       "\n",
       "    .dataframe thead th {\n",
       "        text-align: right;\n",
       "    }\n",
       "</style>\n",
       "<table border=\"1\" class=\"dataframe\">\n",
       "  <thead>\n",
       "    <tr style=\"text-align: right;\">\n",
       "      <th></th>\n",
       "      <th>Date</th>\n",
       "      <th>StartTime</th>\n",
       "      <th>DayOfWeek</th>\n",
       "      <th>GoingTo</th>\n",
       "      <th>Distance</th>\n",
       "      <th>MaxSpeed</th>\n",
       "      <th>AvgSpeed</th>\n",
       "      <th>AvgMovingSpeed</th>\n",
       "      <th>FuelEconomy</th>\n",
       "      <th>TotalTime</th>\n",
       "      <th>MovingTime</th>\n",
       "      <th>Take407All</th>\n",
       "      <th>Datetime</th>\n",
       "    </tr>\n",
       "  </thead>\n",
       "  <tbody>\n",
       "    <tr>\n",
       "      <th>44</th>\n",
       "      <td>2011-11-23</td>\n",
       "      <td>16:17</td>\n",
       "      <td>Wednesday</td>\n",
       "      <td>Home</td>\n",
       "      <td>60.32</td>\n",
       "      <td>129.4</td>\n",
       "      <td>68.9</td>\n",
       "      <td>74.6</td>\n",
       "      <td>9.3</td>\n",
       "      <td>52.5</td>\n",
       "      <td>48.5</td>\n",
       "      <td>No</td>\n",
       "      <td>2011-11-23 16:17:00</td>\n",
       "    </tr>\n",
       "  </tbody>\n",
       "</table>\n",
       "</div>"
      ],
      "text/plain": [
       "         Date StartTime  DayOfWeek GoingTo  Distance  MaxSpeed  AvgSpeed  \\\n",
       "44 2011-11-23     16:17  Wednesday    Home     60.32     129.4      68.9   \n",
       "\n",
       "    AvgMovingSpeed  FuelEconomy  TotalTime  MovingTime Take407All  \\\n",
       "44            74.6          9.3       52.5        48.5         No   \n",
       "\n",
       "              Datetime  \n",
       "44 2011-11-23 16:17:00  "
      ]
     },
     "execution_count": 147,
     "metadata": {},
     "output_type": "execute_result"
    }
   ],
   "source": [
    "df[(df.Distance == df.Distance.max()) & (df.GoingTo == \"Home\")]"
   ]
  },
  {
   "cell_type": "code",
   "execution_count": 148,
   "id": "387648b3-1e3f-463b-a089-b970e00bc39e",
   "metadata": {},
   "outputs": [
    {
     "data": {
      "text/html": [
       "<div>\n",
       "<style scoped>\n",
       "    .dataframe tbody tr th:only-of-type {\n",
       "        vertical-align: middle;\n",
       "    }\n",
       "\n",
       "    .dataframe tbody tr th {\n",
       "        vertical-align: top;\n",
       "    }\n",
       "\n",
       "    .dataframe thead th {\n",
       "        text-align: right;\n",
       "    }\n",
       "</style>\n",
       "<table border=\"1\" class=\"dataframe\">\n",
       "  <thead>\n",
       "    <tr style=\"text-align: right;\">\n",
       "      <th></th>\n",
       "      <th>Date</th>\n",
       "      <th>StartTime</th>\n",
       "      <th>DayOfWeek</th>\n",
       "      <th>GoingTo</th>\n",
       "      <th>Distance</th>\n",
       "      <th>MaxSpeed</th>\n",
       "      <th>AvgSpeed</th>\n",
       "      <th>AvgMovingSpeed</th>\n",
       "      <th>FuelEconomy</th>\n",
       "      <th>TotalTime</th>\n",
       "      <th>MovingTime</th>\n",
       "      <th>Take407All</th>\n",
       "      <th>Datetime</th>\n",
       "    </tr>\n",
       "  </thead>\n",
       "  <tbody>\n",
       "    <tr>\n",
       "      <th>44</th>\n",
       "      <td>2011-11-23</td>\n",
       "      <td>16:17</td>\n",
       "      <td>Wednesday</td>\n",
       "      <td>Home</td>\n",
       "      <td>60.32</td>\n",
       "      <td>129.4</td>\n",
       "      <td>68.9</td>\n",
       "      <td>74.6</td>\n",
       "      <td>9.3</td>\n",
       "      <td>52.5</td>\n",
       "      <td>48.5</td>\n",
       "      <td>No</td>\n",
       "      <td>2011-11-23 16:17:00</td>\n",
       "    </tr>\n",
       "  </tbody>\n",
       "</table>\n",
       "</div>"
      ],
      "text/plain": [
       "         Date StartTime  DayOfWeek GoingTo  Distance  MaxSpeed  AvgSpeed  \\\n",
       "44 2011-11-23     16:17  Wednesday    Home     60.32     129.4      68.9   \n",
       "\n",
       "    AvgMovingSpeed  FuelEconomy  TotalTime  MovingTime Take407All  \\\n",
       "44            74.6          9.3       52.5        48.5         No   \n",
       "\n",
       "              Datetime  \n",
       "44 2011-11-23 16:17:00  "
      ]
     },
     "execution_count": 148,
     "metadata": {},
     "output_type": "execute_result"
    }
   ],
   "source": [
    "# other way. sorting the dataframe\n",
    "df[df.GoingTo == \"Home\"].sort_values(\"Distance\", ascending=False).head(1)"
   ]
  },
  {
   "cell_type": "markdown",
   "id": "9cbdcf14-0c54-46f9-9c79-09e0dfecdf99",
   "metadata": {},
   "source": [
    "### D. What's the mean of the AvgMovingSpeed per DayOfWeek? What's the best day for driving?"
   ]
  },
  {
   "cell_type": "code",
   "execution_count": 149,
   "id": "9d6a01f7-7caa-4977-8137-ebe36246375a",
   "metadata": {},
   "outputs": [
    {
     "data": {
      "text/plain": [
       "DayOfWeek\n",
       "Friday       87.937037\n",
       "Monday       81.405128\n",
       "Thursday     82.809091\n",
       "Tuesday      80.893750\n",
       "Wednesday    79.348936\n",
       "Name: AvgMovingSpeed, dtype: float64"
      ]
     },
     "execution_count": 149,
     "metadata": {},
     "output_type": "execute_result"
    }
   ],
   "source": [
    "df.groupby(\"DayOfWeek\")[\"AvgMovingSpeed\"].mean()"
   ]
  },
  {
   "cell_type": "markdown",
   "id": "eab2f4b9-4834-45ac-beb1-60d81c94727c",
   "metadata": {},
   "source": [
    "The best day is Friday. We can drive faster"
   ]
  },
  {
   "cell_type": "markdown",
   "id": "816ca479-19c6-4fc5-872f-8541b476deaa",
   "metadata": {},
   "source": [
    "### E. Create a new column called `NotMovingTime` with the time the car was not moving. Get the mean of `NotMovingTime` per hour of day."
   ]
  },
  {
   "cell_type": "code",
   "execution_count": 150,
   "id": "99a6f4db-fedb-4536-a949-9342d13b542d",
   "metadata": {},
   "outputs": [],
   "source": [
    "# create two new columns\n",
    "df[\"NotMovingTime\"] = df[\"TotalTime\"] - df[\"MovingTime\"]\n",
    "df[\"Hour\"] = df.Datetime.dt.hour"
   ]
  },
  {
   "cell_type": "code",
   "execution_count": 151,
   "id": "3b0018e9-f0ae-4bb1-90c8-44f4e5e29e9a",
   "metadata": {},
   "outputs": [
    {
     "data": {
      "text/plain": [
       "Hour\n",
       "6     3.751337\n",
       "7     4.236510\n",
       "8     4.188321\n",
       "9     1.000000\n",
       "12    2.690802\n",
       "15    4.400000\n",
       "16    3.934970\n",
       "17    4.145381\n",
       "18    2.300000\n",
       "20    0.600000\n",
       "Name: NotMovingTime, dtype: float64"
      ]
     },
     "execution_count": 151,
     "metadata": {},
     "output_type": "execute_result"
    }
   ],
   "source": [
    "df.groupby(\"Hour\")[\"NotMovingTime\"].mean()"
   ]
  },
  {
   "cell_type": "markdown",
   "id": "a315878e-6944-4498-9883-222bed46cd7f",
   "metadata": {},
   "source": [
    "The hours with more traffic (assuming this is the cause of staying stopped) are 7 and 17"
   ]
  },
  {
   "cell_type": "markdown",
   "id": "b5169525-a34f-45a2-968d-b5f6a097ea5a",
   "metadata": {},
   "source": [
    "### F. How many different days (in the trip to GSK) the 407 highway was taken? Does this days this guy saved time (in average) compared to the days the toll highway was not taken?"
   ]
  },
  {
   "cell_type": "code",
   "execution_count": 152,
   "id": "115875d0-ee62-4479-a1ae-26de880d3f84",
   "metadata": {},
   "outputs": [
    {
     "data": {
      "text/plain": [
       "1"
      ]
     },
     "execution_count": 152,
     "metadata": {},
     "output_type": "execute_result"
    }
   ],
   "source": [
    "# First I check that there is only one trip per day to GSK\n",
    "df[df.GoingTo == \"GSK\"][\"Date\"].value_counts().max()"
   ]
  },
  {
   "cell_type": "code",
   "execution_count": 153,
   "id": "98518cab-3568-4b32-9130-9a559fac0105",
   "metadata": {},
   "outputs": [
    {
     "data": {
      "text/plain": [
       "Take407All\n",
       "No     80\n",
       "Yes    25\n",
       "dtype: int64"
      ]
     },
     "execution_count": 153,
     "metadata": {},
     "output_type": "execute_result"
    }
   ],
   "source": [
    "df[df.GoingTo == \"GSK\"].groupby(\"Take407All\").size()"
   ]
  },
  {
   "cell_type": "markdown",
   "id": "75adced4-f1e3-419b-ad06-92a8aa1f2a4f",
   "metadata": {},
   "source": [
    "The 407 was taken 25 days"
   ]
  },
  {
   "cell_type": "code",
   "execution_count": 154,
   "id": "cf445655-fc8e-4f5c-a7ee-e1b1d4bd0964",
   "metadata": {},
   "outputs": [
    {
     "data": {
      "text/plain": [
       "Take407All\n",
       "No     44.066183\n",
       "Yes    34.639872\n",
       "Name: TotalTime, dtype: float64"
      ]
     },
     "execution_count": 154,
     "metadata": {},
     "output_type": "execute_result"
    }
   ],
   "source": [
    "# let's calculate the average time conditioned to taking the 407 or not\n",
    "res = df[df.GoingTo == \"GSK\"].groupby(\"Take407All\")[\"TotalTime\"].mean()\n",
    "res"
   ]
  },
  {
   "cell_type": "code",
   "execution_count": 155,
   "id": "dbfa26fa-96db-4340-a536-eafa6d4736b3",
   "metadata": {},
   "outputs": [
    {
     "name": "stdout",
     "output_type": "stream",
     "text": [
      "Going to GSK through the 407 is 21.0% faster\n"
     ]
    }
   ],
   "source": [
    "print(f\"Going to GSK through the 407 is {round(1-res.loc['Yes']/res.loc['No'], 2)*100}% faster\")"
   ]
  },
  {
   "cell_type": "markdown",
   "id": "4729613f-be60-414f-9a4d-4ea3e1739c70",
   "metadata": {},
   "source": [
    "## PART 3"
   ]
  },
  {
   "cell_type": "markdown",
   "id": "3863cf78-64c1-4760-aa51-fa8ec52f0dd8",
   "metadata": {},
   "source": [
    "### A. Create a new column named `DayZone` with values `EarlyMorning` or `LateMorning`, `EarlyEvening` and `LateEvening` depending on the `StartTime`"
   ]
  },
  {
   "cell_type": "code",
   "execution_count": 156,
   "id": "f8744ae6-3da7-414b-bc60-d06836110dba",
   "metadata": {},
   "outputs": [],
   "source": [
    "df = pd.read_csv(\"data/travel-times-na.csv\")"
   ]
  },
  {
   "cell_type": "code",
   "execution_count": 157,
   "id": "40f78d04-a734-40d5-80c2-685141e75410",
   "metadata": {},
   "outputs": [],
   "source": [
    "df[\"Datetime\"] = df.Date + \" \" + df.StartTime\n",
    "df.Datetime = pd.to_datetime(df.Datetime)\n",
    "df[\"Hour\"] = df.Datetime.dt.hour"
   ]
  },
  {
   "cell_type": "code",
   "execution_count": 158,
   "id": "b4aa9f1b-cd2a-4166-b51c-788577301383",
   "metadata": {},
   "outputs": [],
   "source": [
    "# classic python way: build a new list with the values iterating over the StartTime series\n",
    "def get_dayzone(series):\n",
    "    dayzone = []\n",
    "    for element in series:\n",
    "        hour = int(element[:2])\n",
    "        if hour<8:\n",
    "            dayzone.append(\"EarlyMorning\")\n",
    "        elif (hour>=8) and (hour<12):\n",
    "            dayzone.append(\"LateMorning\")\n",
    "        elif (hour>12) and (hour<17):\n",
    "            dayzone.append(\"EarlyEvening\")\n",
    "        else:\n",
    "            dayzone.append(\"LateEvening\")\n",
    "            \n",
    "    return dayzone\n",
    "\n",
    "df[\"DayZone\"] = get_dayzone(df[\"StartTime\"])"
   ]
  },
  {
   "cell_type": "code",
   "execution_count": 159,
   "id": "31cabef5-2b5f-4242-9d02-09e4253ac14e",
   "metadata": {},
   "outputs": [],
   "source": [
    "# pandas way. using the apply function. the apply function will apply the provided function to each row\n",
    "def apply_dayzone(hour):\n",
    "    if hour<8:\n",
    "        return \"EarlyMorning\"\n",
    "    elif (hour>=8) and (hour<12):\n",
    "        return \"LateMorning\"\n",
    "    elif (hour>12) and (hour<17):\n",
    "        return \"EarlyEvening\"\n",
    "    else:\n",
    "        return \"LateEvening\"\n",
    "    \n",
    "df[\"DayZone\"] = df[\"Hour\"].apply(apply_dayzone)"
   ]
  },
  {
   "cell_type": "code",
   "execution_count": 160,
   "id": "8488167f-5feb-44e5-ad4c-baa1cea0d42e",
   "metadata": {},
   "outputs": [
    {
     "data": {
      "text/html": [
       "<div>\n",
       "<style scoped>\n",
       "    .dataframe tbody tr th:only-of-type {\n",
       "        vertical-align: middle;\n",
       "    }\n",
       "\n",
       "    .dataframe tbody tr th {\n",
       "        vertical-align: top;\n",
       "    }\n",
       "\n",
       "    .dataframe thead th {\n",
       "        text-align: right;\n",
       "    }\n",
       "</style>\n",
       "<table border=\"1\" class=\"dataframe\">\n",
       "  <thead>\n",
       "    <tr style=\"text-align: right;\">\n",
       "      <th></th>\n",
       "      <th>Date</th>\n",
       "      <th>StartTime</th>\n",
       "      <th>DayOfWeek</th>\n",
       "      <th>GoingTo</th>\n",
       "      <th>Distance</th>\n",
       "      <th>MaxSpeed</th>\n",
       "      <th>AvgSpeed</th>\n",
       "      <th>AvgMovingSpeed</th>\n",
       "      <th>FuelEconomy</th>\n",
       "      <th>TotalTime</th>\n",
       "      <th>MovingTime</th>\n",
       "      <th>Take407All</th>\n",
       "      <th>Comments</th>\n",
       "      <th>Datetime</th>\n",
       "      <th>Hour</th>\n",
       "      <th>DayZone</th>\n",
       "    </tr>\n",
       "  </thead>\n",
       "  <tbody>\n",
       "    <tr>\n",
       "      <th>0</th>\n",
       "      <td>1/6/2012</td>\n",
       "      <td>16:37</td>\n",
       "      <td>Friday</td>\n",
       "      <td>Home</td>\n",
       "      <td>51.29</td>\n",
       "      <td>127.4</td>\n",
       "      <td>78.3</td>\n",
       "      <td>84.8</td>\n",
       "      <td>NaN</td>\n",
       "      <td>39.3</td>\n",
       "      <td>36.3</td>\n",
       "      <td>No</td>\n",
       "      <td>NaN</td>\n",
       "      <td>2012-01-06 16:37:00</td>\n",
       "      <td>16</td>\n",
       "      <td>EarlyEvening</td>\n",
       "    </tr>\n",
       "    <tr>\n",
       "      <th>1</th>\n",
       "      <td>1/6/2012</td>\n",
       "      <td>08:20</td>\n",
       "      <td>Friday</td>\n",
       "      <td>GSK</td>\n",
       "      <td>51.63</td>\n",
       "      <td>130.3</td>\n",
       "      <td>81.8</td>\n",
       "      <td>88.9</td>\n",
       "      <td>NaN</td>\n",
       "      <td>37.9</td>\n",
       "      <td>34.9</td>\n",
       "      <td>No</td>\n",
       "      <td>NaN</td>\n",
       "      <td>2012-01-06 08:20:00</td>\n",
       "      <td>8</td>\n",
       "      <td>LateMorning</td>\n",
       "    </tr>\n",
       "    <tr>\n",
       "      <th>2</th>\n",
       "      <td>1/4/2012</td>\n",
       "      <td>16:17</td>\n",
       "      <td>Wednesday</td>\n",
       "      <td>Home</td>\n",
       "      <td>51.27</td>\n",
       "      <td>127.4</td>\n",
       "      <td>82.0</td>\n",
       "      <td>85.8</td>\n",
       "      <td>NaN</td>\n",
       "      <td>37.5</td>\n",
       "      <td>35.9</td>\n",
       "      <td>No</td>\n",
       "      <td>NaN</td>\n",
       "      <td>2012-01-04 16:17:00</td>\n",
       "      <td>16</td>\n",
       "      <td>EarlyEvening</td>\n",
       "    </tr>\n",
       "    <tr>\n",
       "      <th>3</th>\n",
       "      <td>1/4/2012</td>\n",
       "      <td>07:53</td>\n",
       "      <td>Wednesday</td>\n",
       "      <td>GSK</td>\n",
       "      <td>49.17</td>\n",
       "      <td>132.3</td>\n",
       "      <td>74.2</td>\n",
       "      <td>82.9</td>\n",
       "      <td>NaN</td>\n",
       "      <td>39.8</td>\n",
       "      <td>35.6</td>\n",
       "      <td>No</td>\n",
       "      <td>NaN</td>\n",
       "      <td>2012-01-04 07:53:00</td>\n",
       "      <td>7</td>\n",
       "      <td>EarlyMorning</td>\n",
       "    </tr>\n",
       "    <tr>\n",
       "      <th>4</th>\n",
       "      <td>1/3/2012</td>\n",
       "      <td>18:57</td>\n",
       "      <td>Tuesday</td>\n",
       "      <td>Home</td>\n",
       "      <td>51.15</td>\n",
       "      <td>136.2</td>\n",
       "      <td>83.4</td>\n",
       "      <td>88.1</td>\n",
       "      <td>NaN</td>\n",
       "      <td>36.8</td>\n",
       "      <td>34.8</td>\n",
       "      <td>No</td>\n",
       "      <td>NaN</td>\n",
       "      <td>2012-01-03 18:57:00</td>\n",
       "      <td>18</td>\n",
       "      <td>LateEvening</td>\n",
       "    </tr>\n",
       "  </tbody>\n",
       "</table>\n",
       "</div>"
      ],
      "text/plain": [
       "       Date StartTime  DayOfWeek GoingTo  Distance  MaxSpeed  AvgSpeed  \\\n",
       "0  1/6/2012     16:37     Friday    Home     51.29     127.4      78.3   \n",
       "1  1/6/2012     08:20     Friday     GSK     51.63     130.3      81.8   \n",
       "2  1/4/2012     16:17  Wednesday    Home     51.27     127.4      82.0   \n",
       "3  1/4/2012     07:53  Wednesday     GSK     49.17     132.3      74.2   \n",
       "4  1/3/2012     18:57    Tuesday    Home     51.15     136.2      83.4   \n",
       "\n",
       "   AvgMovingSpeed  FuelEconomy  TotalTime  MovingTime Take407All Comments  \\\n",
       "0            84.8          NaN       39.3        36.3         No      NaN   \n",
       "1            88.9          NaN       37.9        34.9         No      NaN   \n",
       "2            85.8          NaN       37.5        35.9         No      NaN   \n",
       "3            82.9          NaN       39.8        35.6         No      NaN   \n",
       "4            88.1          NaN       36.8        34.8         No      NaN   \n",
       "\n",
       "             Datetime  Hour       DayZone  \n",
       "0 2012-01-06 16:37:00    16  EarlyEvening  \n",
       "1 2012-01-06 08:20:00     8   LateMorning  \n",
       "2 2012-01-04 16:17:00    16  EarlyEvening  \n",
       "3 2012-01-04 07:53:00     7  EarlyMorning  \n",
       "4 2012-01-03 18:57:00    18   LateEvening  "
      ]
     },
     "execution_count": 160,
     "metadata": {},
     "output_type": "execute_result"
    }
   ],
   "source": [
    "df.head()"
   ]
  },
  {
   "cell_type": "markdown",
   "id": "e62a56f1-e5c4-44b2-ad99-cded89df8fe2",
   "metadata": {},
   "source": [
    "### B. Fill the missing values with the corresponding mean value given the DayZone and DayOfWeek"
   ]
  },
  {
   "cell_type": "code",
   "execution_count": 161,
   "id": "f3894a2a-3864-4231-8fc6-e00303baa9a3",
   "metadata": {},
   "outputs": [
    {
     "name": "stdout",
     "output_type": "stream",
     "text": [
      "<class 'pandas.core.frame.DataFrame'>\n",
      "RangeIndex: 205 entries, 0 to 204\n",
      "Data columns (total 16 columns):\n",
      " #   Column          Non-Null Count  Dtype         \n",
      "---  ------          --------------  -----         \n",
      " 0   Date            205 non-null    object        \n",
      " 1   StartTime       205 non-null    object        \n",
      " 2   DayOfWeek       205 non-null    object        \n",
      " 3   GoingTo         205 non-null    object        \n",
      " 4   Distance        205 non-null    float64       \n",
      " 5   MaxSpeed        187 non-null    float64       \n",
      " 6   AvgSpeed        187 non-null    float64       \n",
      " 7   AvgMovingSpeed  205 non-null    float64       \n",
      " 8   FuelEconomy     186 non-null    float64       \n",
      " 9   TotalTime       187 non-null    float64       \n",
      " 10  MovingTime      187 non-null    float64       \n",
      " 11  Take407All      205 non-null    object        \n",
      " 12  Comments        24 non-null     object        \n",
      " 13  Datetime        205 non-null    datetime64[ns]\n",
      " 14  Hour            205 non-null    int64         \n",
      " 15  DayZone         205 non-null    object        \n",
      "dtypes: datetime64[ns](1), float64(7), int64(1), object(7)\n",
      "memory usage: 25.8+ KB\n"
     ]
    }
   ],
   "source": [
    "df.info()"
   ]
  },
  {
   "cell_type": "code",
   "execution_count": 162,
   "id": "e700378b-fb35-4754-8a88-3d19afef4e44",
   "metadata": {},
   "outputs": [
    {
     "data": {
      "text/html": [
       "<div>\n",
       "<style scoped>\n",
       "    .dataframe tbody tr th:only-of-type {\n",
       "        vertical-align: middle;\n",
       "    }\n",
       "\n",
       "    .dataframe tbody tr th {\n",
       "        vertical-align: top;\n",
       "    }\n",
       "\n",
       "    .dataframe thead th {\n",
       "        text-align: right;\n",
       "    }\n",
       "</style>\n",
       "<table border=\"1\" class=\"dataframe\">\n",
       "  <thead>\n",
       "    <tr style=\"text-align: right;\">\n",
       "      <th></th>\n",
       "      <th></th>\n",
       "      <th>MaxSpeed</th>\n",
       "      <th>AvgSpeed</th>\n",
       "      <th>TotalTime</th>\n",
       "      <th>MovingTime</th>\n",
       "    </tr>\n",
       "    <tr>\n",
       "      <th>DayZone</th>\n",
       "      <th>DayOfWeek</th>\n",
       "      <th></th>\n",
       "      <th></th>\n",
       "      <th></th>\n",
       "      <th></th>\n",
       "    </tr>\n",
       "  </thead>\n",
       "  <tbody>\n",
       "    <tr>\n",
       "      <th rowspan=\"5\" valign=\"top\">EarlyEvening</th>\n",
       "      <th>Friday</th>\n",
       "      <td>128.800000</td>\n",
       "      <td>78.400000</td>\n",
       "      <td>39.166667</td>\n",
       "      <td>36.366667</td>\n",
       "    </tr>\n",
       "    <tr>\n",
       "      <th>Monday</th>\n",
       "      <td>125.609091</td>\n",
       "      <td>71.245455</td>\n",
       "      <td>44.090909</td>\n",
       "      <td>38.545455</td>\n",
       "    </tr>\n",
       "    <tr>\n",
       "      <th>Thursday</th>\n",
       "      <td>129.583333</td>\n",
       "      <td>73.866667</td>\n",
       "      <td>41.733333</td>\n",
       "      <td>37.716667</td>\n",
       "    </tr>\n",
       "    <tr>\n",
       "      <th>Tuesday</th>\n",
       "      <td>128.175000</td>\n",
       "      <td>79.400000</td>\n",
       "      <td>39.600000</td>\n",
       "      <td>36.775000</td>\n",
       "    </tr>\n",
       "    <tr>\n",
       "      <th>Wednesday</th>\n",
       "      <td>126.255556</td>\n",
       "      <td>73.666667</td>\n",
       "      <td>42.833333</td>\n",
       "      <td>40.011111</td>\n",
       "    </tr>\n",
       "    <tr>\n",
       "      <th rowspan=\"5\" valign=\"top\">EarlyMorning</th>\n",
       "      <th>Friday</th>\n",
       "      <td>127.560000</td>\n",
       "      <td>75.200000</td>\n",
       "      <td>40.080000</td>\n",
       "      <td>36.460000</td>\n",
       "    </tr>\n",
       "    <tr>\n",
       "      <th>Monday</th>\n",
       "      <td>127.027273</td>\n",
       "      <td>68.081818</td>\n",
       "      <td>46.709091</td>\n",
       "      <td>41.109091</td>\n",
       "    </tr>\n",
       "    <tr>\n",
       "      <th>Thursday</th>\n",
       "      <td>127.877778</td>\n",
       "      <td>74.588889</td>\n",
       "      <td>41.877778</td>\n",
       "      <td>38.166667</td>\n",
       "    </tr>\n",
       "    <tr>\n",
       "      <th>Tuesday</th>\n",
       "      <td>126.838462</td>\n",
       "      <td>74.053846</td>\n",
       "      <td>42.484615</td>\n",
       "      <td>38.892308</td>\n",
       "    </tr>\n",
       "    <tr>\n",
       "      <th>Wednesday</th>\n",
       "      <td>127.066667</td>\n",
       "      <td>72.366667</td>\n",
       "      <td>43.083333</td>\n",
       "      <td>38.808333</td>\n",
       "    </tr>\n",
       "    <tr>\n",
       "      <th rowspan=\"5\" valign=\"top\">LateEvening</th>\n",
       "      <th>Friday</th>\n",
       "      <td>128.512500</td>\n",
       "      <td>83.287500</td>\n",
       "      <td>37.900000</td>\n",
       "      <td>34.962500</td>\n",
       "    </tr>\n",
       "    <tr>\n",
       "      <th>Monday</th>\n",
       "      <td>128.328571</td>\n",
       "      <td>80.057143</td>\n",
       "      <td>38.728571</td>\n",
       "      <td>35.957143</td>\n",
       "    </tr>\n",
       "    <tr>\n",
       "      <th>Thursday</th>\n",
       "      <td>127.758333</td>\n",
       "      <td>72.416667</td>\n",
       "      <td>42.508333</td>\n",
       "      <td>38.850000</td>\n",
       "    </tr>\n",
       "    <tr>\n",
       "      <th>Tuesday</th>\n",
       "      <td>129.278947</td>\n",
       "      <td>72.589474</td>\n",
       "      <td>43.673684</td>\n",
       "      <td>38.810526</td>\n",
       "    </tr>\n",
       "    <tr>\n",
       "      <th>Wednesday</th>\n",
       "      <td>127.190909</td>\n",
       "      <td>70.490909</td>\n",
       "      <td>44.318182</td>\n",
       "      <td>40.372727</td>\n",
       "    </tr>\n",
       "    <tr>\n",
       "      <th rowspan=\"5\" valign=\"top\">LateMorning</th>\n",
       "      <th>Friday</th>\n",
       "      <td>127.200000</td>\n",
       "      <td>85.133333</td>\n",
       "      <td>36.266667</td>\n",
       "      <td>33.888889</td>\n",
       "    </tr>\n",
       "    <tr>\n",
       "      <th>Monday</th>\n",
       "      <td>128.433333</td>\n",
       "      <td>72.883333</td>\n",
       "      <td>43.600000</td>\n",
       "      <td>36.733333</td>\n",
       "    </tr>\n",
       "    <tr>\n",
       "      <th>Thursday</th>\n",
       "      <td>127.381818</td>\n",
       "      <td>77.981818</td>\n",
       "      <td>40.409091</td>\n",
       "      <td>35.981818</td>\n",
       "    </tr>\n",
       "    <tr>\n",
       "      <th>Tuesday</th>\n",
       "      <td>128.977778</td>\n",
       "      <td>74.500000</td>\n",
       "      <td>41.033333</td>\n",
       "      <td>37.244444</td>\n",
       "    </tr>\n",
       "    <tr>\n",
       "      <th>Wednesday</th>\n",
       "      <td>126.666667</td>\n",
       "      <td>74.633333</td>\n",
       "      <td>41.091667</td>\n",
       "      <td>37.025000</td>\n",
       "    </tr>\n",
       "  </tbody>\n",
       "</table>\n",
       "</div>"
      ],
      "text/plain": [
       "                          MaxSpeed   AvgSpeed  TotalTime  MovingTime\n",
       "DayZone      DayOfWeek                                              \n",
       "EarlyEvening Friday     128.800000  78.400000  39.166667   36.366667\n",
       "             Monday     125.609091  71.245455  44.090909   38.545455\n",
       "             Thursday   129.583333  73.866667  41.733333   37.716667\n",
       "             Tuesday    128.175000  79.400000  39.600000   36.775000\n",
       "             Wednesday  126.255556  73.666667  42.833333   40.011111\n",
       "EarlyMorning Friday     127.560000  75.200000  40.080000   36.460000\n",
       "             Monday     127.027273  68.081818  46.709091   41.109091\n",
       "             Thursday   127.877778  74.588889  41.877778   38.166667\n",
       "             Tuesday    126.838462  74.053846  42.484615   38.892308\n",
       "             Wednesday  127.066667  72.366667  43.083333   38.808333\n",
       "LateEvening  Friday     128.512500  83.287500  37.900000   34.962500\n",
       "             Monday     128.328571  80.057143  38.728571   35.957143\n",
       "             Thursday   127.758333  72.416667  42.508333   38.850000\n",
       "             Tuesday    129.278947  72.589474  43.673684   38.810526\n",
       "             Wednesday  127.190909  70.490909  44.318182   40.372727\n",
       "LateMorning  Friday     127.200000  85.133333  36.266667   33.888889\n",
       "             Monday     128.433333  72.883333  43.600000   36.733333\n",
       "             Thursday   127.381818  77.981818  40.409091   35.981818\n",
       "             Tuesday    128.977778  74.500000  41.033333   37.244444\n",
       "             Wednesday  126.666667  74.633333  41.091667   37.025000"
      ]
     },
     "execution_count": 162,
     "metadata": {},
     "output_type": "execute_result"
    }
   ],
   "source": [
    "meanvals = df.groupby([\"DayZone\",\"DayOfWeek\"])[[\"MaxSpeed\",\"AvgSpeed\",\"TotalTime\",\"MovingTime\"]].mean()\n",
    "meanvals"
   ]
  },
  {
   "cell_type": "code",
   "execution_count": 163,
   "id": "999b83d2-d902-4eeb-9fec-764da071aa35",
   "metadata": {},
   "outputs": [
    {
     "data": {
      "text/html": [
       "<div>\n",
       "<style scoped>\n",
       "    .dataframe tbody tr th:only-of-type {\n",
       "        vertical-align: middle;\n",
       "    }\n",
       "\n",
       "    .dataframe tbody tr th {\n",
       "        vertical-align: top;\n",
       "    }\n",
       "\n",
       "    .dataframe thead th {\n",
       "        text-align: right;\n",
       "    }\n",
       "</style>\n",
       "<table border=\"1\" class=\"dataframe\">\n",
       "  <thead>\n",
       "    <tr style=\"text-align: right;\">\n",
       "      <th></th>\n",
       "      <th></th>\n",
       "      <th>Date</th>\n",
       "      <th>StartTime</th>\n",
       "      <th>GoingTo</th>\n",
       "      <th>Distance</th>\n",
       "      <th>MaxSpeed</th>\n",
       "      <th>AvgSpeed</th>\n",
       "      <th>AvgMovingSpeed</th>\n",
       "      <th>FuelEconomy</th>\n",
       "      <th>TotalTime</th>\n",
       "      <th>MovingTime</th>\n",
       "      <th>Take407All</th>\n",
       "      <th>Comments</th>\n",
       "      <th>Datetime</th>\n",
       "      <th>Hour</th>\n",
       "    </tr>\n",
       "    <tr>\n",
       "      <th>DayZone</th>\n",
       "      <th>DayOfWeek</th>\n",
       "      <th></th>\n",
       "      <th></th>\n",
       "      <th></th>\n",
       "      <th></th>\n",
       "      <th></th>\n",
       "      <th></th>\n",
       "      <th></th>\n",
       "      <th></th>\n",
       "      <th></th>\n",
       "      <th></th>\n",
       "      <th></th>\n",
       "      <th></th>\n",
       "      <th></th>\n",
       "      <th></th>\n",
       "    </tr>\n",
       "  </thead>\n",
       "  <tbody>\n",
       "    <tr>\n",
       "      <th>EarlyEvening</th>\n",
       "      <th>Friday</th>\n",
       "      <td>1/6/2012</td>\n",
       "      <td>16:37</td>\n",
       "      <td>Home</td>\n",
       "      <td>51.29</td>\n",
       "      <td>127.4</td>\n",
       "      <td>78.3</td>\n",
       "      <td>84.8</td>\n",
       "      <td>NaN</td>\n",
       "      <td>39.3</td>\n",
       "      <td>36.3</td>\n",
       "      <td>No</td>\n",
       "      <td>NaN</td>\n",
       "      <td>2012-01-06 16:37:00</td>\n",
       "      <td>16</td>\n",
       "    </tr>\n",
       "    <tr>\n",
       "      <th>LateMorning</th>\n",
       "      <th>Friday</th>\n",
       "      <td>1/6/2012</td>\n",
       "      <td>08:20</td>\n",
       "      <td>GSK</td>\n",
       "      <td>51.63</td>\n",
       "      <td>130.3</td>\n",
       "      <td>81.8</td>\n",
       "      <td>88.9</td>\n",
       "      <td>NaN</td>\n",
       "      <td>37.9</td>\n",
       "      <td>34.9</td>\n",
       "      <td>No</td>\n",
       "      <td>NaN</td>\n",
       "      <td>2012-01-06 08:20:00</td>\n",
       "      <td>8</td>\n",
       "    </tr>\n",
       "    <tr>\n",
       "      <th>EarlyEvening</th>\n",
       "      <th>Wednesday</th>\n",
       "      <td>1/4/2012</td>\n",
       "      <td>16:17</td>\n",
       "      <td>Home</td>\n",
       "      <td>51.27</td>\n",
       "      <td>127.4</td>\n",
       "      <td>82.0</td>\n",
       "      <td>85.8</td>\n",
       "      <td>NaN</td>\n",
       "      <td>37.5</td>\n",
       "      <td>35.9</td>\n",
       "      <td>No</td>\n",
       "      <td>NaN</td>\n",
       "      <td>2012-01-04 16:17:00</td>\n",
       "      <td>16</td>\n",
       "    </tr>\n",
       "    <tr>\n",
       "      <th>EarlyMorning</th>\n",
       "      <th>Wednesday</th>\n",
       "      <td>1/4/2012</td>\n",
       "      <td>07:53</td>\n",
       "      <td>GSK</td>\n",
       "      <td>49.17</td>\n",
       "      <td>132.3</td>\n",
       "      <td>74.2</td>\n",
       "      <td>82.9</td>\n",
       "      <td>NaN</td>\n",
       "      <td>39.8</td>\n",
       "      <td>35.6</td>\n",
       "      <td>No</td>\n",
       "      <td>NaN</td>\n",
       "      <td>2012-01-04 07:53:00</td>\n",
       "      <td>7</td>\n",
       "    </tr>\n",
       "    <tr>\n",
       "      <th>LateEvening</th>\n",
       "      <th>Tuesday</th>\n",
       "      <td>1/3/2012</td>\n",
       "      <td>18:57</td>\n",
       "      <td>Home</td>\n",
       "      <td>51.15</td>\n",
       "      <td>136.2</td>\n",
       "      <td>83.4</td>\n",
       "      <td>88.1</td>\n",
       "      <td>NaN</td>\n",
       "      <td>36.8</td>\n",
       "      <td>34.8</td>\n",
       "      <td>No</td>\n",
       "      <td>NaN</td>\n",
       "      <td>2012-01-03 18:57:00</td>\n",
       "      <td>18</td>\n",
       "    </tr>\n",
       "  </tbody>\n",
       "</table>\n",
       "</div>"
      ],
      "text/plain": [
       "                            Date StartTime GoingTo  Distance  MaxSpeed  \\\n",
       "DayZone      DayOfWeek                                                   \n",
       "EarlyEvening Friday     1/6/2012     16:37    Home     51.29     127.4   \n",
       "LateMorning  Friday     1/6/2012     08:20     GSK     51.63     130.3   \n",
       "EarlyEvening Wednesday  1/4/2012     16:17    Home     51.27     127.4   \n",
       "EarlyMorning Wednesday  1/4/2012     07:53     GSK     49.17     132.3   \n",
       "LateEvening  Tuesday    1/3/2012     18:57    Home     51.15     136.2   \n",
       "\n",
       "                        AvgSpeed  AvgMovingSpeed  FuelEconomy  TotalTime  \\\n",
       "DayZone      DayOfWeek                                                     \n",
       "EarlyEvening Friday         78.3            84.8          NaN       39.3   \n",
       "LateMorning  Friday         81.8            88.9          NaN       37.9   \n",
       "EarlyEvening Wednesday      82.0            85.8          NaN       37.5   \n",
       "EarlyMorning Wednesday      74.2            82.9          NaN       39.8   \n",
       "LateEvening  Tuesday        83.4            88.1          NaN       36.8   \n",
       "\n",
       "                        MovingTime Take407All Comments            Datetime  \\\n",
       "DayZone      DayOfWeek                                                       \n",
       "EarlyEvening Friday           36.3         No      NaN 2012-01-06 16:37:00   \n",
       "LateMorning  Friday           34.9         No      NaN 2012-01-06 08:20:00   \n",
       "EarlyEvening Wednesday        35.9         No      NaN 2012-01-04 16:17:00   \n",
       "EarlyMorning Wednesday        35.6         No      NaN 2012-01-04 07:53:00   \n",
       "LateEvening  Tuesday          34.8         No      NaN 2012-01-03 18:57:00   \n",
       "\n",
       "                        Hour  \n",
       "DayZone      DayOfWeek        \n",
       "EarlyEvening Friday       16  \n",
       "LateMorning  Friday        8  \n",
       "EarlyEvening Wednesday    16  \n",
       "EarlyMorning Wednesday     7  \n",
       "LateEvening  Tuesday      18  "
      ]
     },
     "execution_count": 163,
     "metadata": {},
     "output_type": "execute_result"
    }
   ],
   "source": [
    "# now we need to set DayZone and DayOfWeek as index in the original DataFrame in order to apply de \"combine_first\" function\n",
    "dfi = df.set_index([\"DayZone\",\"DayOfWeek\"])\n",
    "dfi.head()"
   ]
  },
  {
   "cell_type": "code",
   "execution_count": 164,
   "id": "2948304b-3213-4629-9f52-6b5326dede0d",
   "metadata": {},
   "outputs": [],
   "source": [
    "# apply the combine_first function. this will fill the null values given the \"meanvals\" dataframe\n",
    "df = dfi.combine_first(meanvals)"
   ]
  },
  {
   "cell_type": "code",
   "execution_count": 165,
   "id": "acb27311-e097-4610-828b-32423f967ecd",
   "metadata": {},
   "outputs": [],
   "source": [
    "# restore the indexes in the original dataframe\n",
    "df = df.reset_index()"
   ]
  },
  {
   "cell_type": "code",
   "execution_count": 166,
   "id": "3e197041-ebd4-49b5-9bc4-7d7427415861",
   "metadata": {},
   "outputs": [
    {
     "data": {
      "text/html": [
       "<div>\n",
       "<style scoped>\n",
       "    .dataframe tbody tr th:only-of-type {\n",
       "        vertical-align: middle;\n",
       "    }\n",
       "\n",
       "    .dataframe tbody tr th {\n",
       "        vertical-align: top;\n",
       "    }\n",
       "\n",
       "    .dataframe thead th {\n",
       "        text-align: right;\n",
       "    }\n",
       "</style>\n",
       "<table border=\"1\" class=\"dataframe\">\n",
       "  <thead>\n",
       "    <tr style=\"text-align: right;\">\n",
       "      <th></th>\n",
       "      <th>DayZone</th>\n",
       "      <th>DayOfWeek</th>\n",
       "      <th>AvgMovingSpeed</th>\n",
       "      <th>AvgSpeed</th>\n",
       "      <th>Comments</th>\n",
       "      <th>Date</th>\n",
       "      <th>Datetime</th>\n",
       "      <th>Distance</th>\n",
       "      <th>FuelEconomy</th>\n",
       "      <th>GoingTo</th>\n",
       "      <th>Hour</th>\n",
       "      <th>MaxSpeed</th>\n",
       "      <th>MovingTime</th>\n",
       "      <th>StartTime</th>\n",
       "      <th>Take407All</th>\n",
       "      <th>TotalTime</th>\n",
       "    </tr>\n",
       "  </thead>\n",
       "  <tbody>\n",
       "    <tr>\n",
       "      <th>0</th>\n",
       "      <td>EarlyEvening</td>\n",
       "      <td>Friday</td>\n",
       "      <td>84.8</td>\n",
       "      <td>78.3</td>\n",
       "      <td>NaN</td>\n",
       "      <td>1/6/2012</td>\n",
       "      <td>2012-01-06 16:37:00</td>\n",
       "      <td>51.29</td>\n",
       "      <td>NaN</td>\n",
       "      <td>Home</td>\n",
       "      <td>16</td>\n",
       "      <td>127.4</td>\n",
       "      <td>36.3</td>\n",
       "      <td>16:37</td>\n",
       "      <td>No</td>\n",
       "      <td>39.3</td>\n",
       "    </tr>\n",
       "    <tr>\n",
       "      <th>1</th>\n",
       "      <td>EarlyEvening</td>\n",
       "      <td>Friday</td>\n",
       "      <td>86.9</td>\n",
       "      <td>81.1</td>\n",
       "      <td>NaN</td>\n",
       "      <td>8/26/2011</td>\n",
       "      <td>2011-08-26 16:29:00</td>\n",
       "      <td>50.88</td>\n",
       "      <td>8.54</td>\n",
       "      <td>Home</td>\n",
       "      <td>16</td>\n",
       "      <td>132.7</td>\n",
       "      <td>35.2</td>\n",
       "      <td>16:29</td>\n",
       "      <td>No</td>\n",
       "      <td>37.6</td>\n",
       "    </tr>\n",
       "    <tr>\n",
       "      <th>2</th>\n",
       "      <td>EarlyEvening</td>\n",
       "      <td>Friday</td>\n",
       "      <td>81.8</td>\n",
       "      <td>75.8</td>\n",
       "      <td>NaN</td>\n",
       "      <td>7/22/2011</td>\n",
       "      <td>2011-07-22 16:47:00</td>\n",
       "      <td>51.24</td>\n",
       "      <td>8.28</td>\n",
       "      <td>Home</td>\n",
       "      <td>16</td>\n",
       "      <td>126.3</td>\n",
       "      <td>37.6</td>\n",
       "      <td>16:47</td>\n",
       "      <td>No</td>\n",
       "      <td>40.6</td>\n",
       "    </tr>\n",
       "    <tr>\n",
       "      <th>3</th>\n",
       "      <td>EarlyEvening</td>\n",
       "      <td>Monday</td>\n",
       "      <td>83.5</td>\n",
       "      <td>77.5</td>\n",
       "      <td>NaN</td>\n",
       "      <td>12/19/2011</td>\n",
       "      <td>2011-12-19 16:18:00</td>\n",
       "      <td>51.04</td>\n",
       "      <td>8.89</td>\n",
       "      <td>Home</td>\n",
       "      <td>16</td>\n",
       "      <td>132.2</td>\n",
       "      <td>36.7</td>\n",
       "      <td>16:18</td>\n",
       "      <td>No</td>\n",
       "      <td>39.5</td>\n",
       "    </tr>\n",
       "    <tr>\n",
       "      <th>4</th>\n",
       "      <td>EarlyEvening</td>\n",
       "      <td>Monday</td>\n",
       "      <td>79.5</td>\n",
       "      <td>71.0</td>\n",
       "      <td>NaN</td>\n",
       "      <td>12/5/2011</td>\n",
       "      <td>2011-12-05 16:18:00</td>\n",
       "      <td>50.18</td>\n",
       "      <td>9.16</td>\n",
       "      <td>Home</td>\n",
       "      <td>16</td>\n",
       "      <td>124.0</td>\n",
       "      <td>37.9</td>\n",
       "      <td>16:18</td>\n",
       "      <td>No</td>\n",
       "      <td>42.4</td>\n",
       "    </tr>\n",
       "  </tbody>\n",
       "</table>\n",
       "</div>"
      ],
      "text/plain": [
       "        DayZone DayOfWeek  AvgMovingSpeed  AvgSpeed Comments        Date  \\\n",
       "0  EarlyEvening    Friday            84.8      78.3      NaN    1/6/2012   \n",
       "1  EarlyEvening    Friday            86.9      81.1      NaN   8/26/2011   \n",
       "2  EarlyEvening    Friday            81.8      75.8      NaN   7/22/2011   \n",
       "3  EarlyEvening    Monday            83.5      77.5      NaN  12/19/2011   \n",
       "4  EarlyEvening    Monday            79.5      71.0      NaN   12/5/2011   \n",
       "\n",
       "             Datetime  Distance  FuelEconomy GoingTo  Hour  MaxSpeed  \\\n",
       "0 2012-01-06 16:37:00     51.29          NaN    Home    16     127.4   \n",
       "1 2011-08-26 16:29:00     50.88         8.54    Home    16     132.7   \n",
       "2 2011-07-22 16:47:00     51.24         8.28    Home    16     126.3   \n",
       "3 2011-12-19 16:18:00     51.04         8.89    Home    16     132.2   \n",
       "4 2011-12-05 16:18:00     50.18         9.16    Home    16     124.0   \n",
       "\n",
       "   MovingTime StartTime Take407All  TotalTime  \n",
       "0        36.3     16:37         No       39.3  \n",
       "1        35.2     16:29         No       37.6  \n",
       "2        37.6     16:47         No       40.6  \n",
       "3        36.7     16:18         No       39.5  \n",
       "4        37.9     16:18         No       42.4  "
      ]
     },
     "execution_count": 166,
     "metadata": {},
     "output_type": "execute_result"
    }
   ],
   "source": [
    "df.head()"
   ]
  },
  {
   "cell_type": "code",
   "execution_count": 167,
   "id": "daf0ed18-54c1-4229-a9fb-f59c3baa6cbe",
   "metadata": {},
   "outputs": [
    {
     "name": "stdout",
     "output_type": "stream",
     "text": [
      "<class 'pandas.core.frame.DataFrame'>\n",
      "RangeIndex: 205 entries, 0 to 204\n",
      "Data columns (total 16 columns):\n",
      " #   Column          Non-Null Count  Dtype         \n",
      "---  ------          --------------  -----         \n",
      " 0   DayZone         205 non-null    object        \n",
      " 1   DayOfWeek       205 non-null    object        \n",
      " 2   AvgMovingSpeed  205 non-null    float64       \n",
      " 3   AvgSpeed        205 non-null    float64       \n",
      " 4   Comments        24 non-null     object        \n",
      " 5   Date            205 non-null    object        \n",
      " 6   Datetime        205 non-null    datetime64[ns]\n",
      " 7   Distance        205 non-null    float64       \n",
      " 8   FuelEconomy     186 non-null    float64       \n",
      " 9   GoingTo         205 non-null    object        \n",
      " 10  Hour            205 non-null    int64         \n",
      " 11  MaxSpeed        205 non-null    float64       \n",
      " 12  MovingTime      205 non-null    float64       \n",
      " 13  StartTime       205 non-null    object        \n",
      " 14  Take407All      205 non-null    object        \n",
      " 15  TotalTime       205 non-null    float64       \n",
      "dtypes: datetime64[ns](1), float64(7), int64(1), object(7)\n",
      "memory usage: 25.8+ KB\n"
     ]
    }
   ],
   "source": [
    "df.info()"
   ]
  }
 ],
 "metadata": {
  "kernelspec": {
   "display_name": "IE MBD (Python 3.8)",
   "language": "python",
   "name": "mbd"
  },
  "language_info": {
   "codemirror_mode": {
    "name": "ipython",
    "version": 3
   },
   "file_extension": ".py",
   "mimetype": "text/x-python",
   "name": "python",
   "nbconvert_exporter": "python",
   "pygments_lexer": "ipython3",
   "version": "3.8.13"
  },
  "toc-autonumbering": false,
  "toc-showmarkdowntxt": false
 },
 "nbformat": 4,
 "nbformat_minor": 5
}
