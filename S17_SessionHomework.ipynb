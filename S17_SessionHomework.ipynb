{
 "cells": [
  {
   "cell_type": "markdown",
   "id": "6c03ec41-2c08-4911-85a9-c55182685f0d",
   "metadata": {},
   "source": [
    "<table border=\"0\" style=\"width:100%\">\n",
    " <tr>\n",
    "    <td>\n",
    "        <img src=\"https://static-frm.ie.edu/university/wp-content/uploads/sites/6/2022/06/IE-University-logo.png\" width=150>\n",
    "     </td>\n",
    "    <td><div style=\"font-family:'Courier New'\">\n",
    "            <div style=\"font-size:25px\">\n",
    "                <div style=\"text-align: right\"> \n",
    "                    <b> MASTER IN BIG DATA</b>\n",
    "                    <br>\n",
    "                    Python for Data Analysis I\n",
    "                    <br><br>\n",
    "                    <em> Daniel Sierra Ramos </em>\n",
    "                </div>\n",
    "            </div>\n",
    "        </div>\n",
    "    </td>\n",
    " </tr>\n",
    "</table>"
   ]
  },
  {
   "cell_type": "markdown",
   "id": "ba297e90-06cd-4d4f-81dc-0cc31c868121",
   "metadata": {},
   "source": [
    "# Exercise 1: Exploratory Data Analysis over the `time-travel` dataset (cont)\n",
    "\n",
    "First, **save the resulting DataFrame after the PART 1 (Data Quality process) with the name `travel-times-na-processed.csv`**. Load this DataFrame in this notebook.\n",
    "\n",
    "1. *[Histogram]* Represent the univariate distribution of the `Distance`\n",
    "1. *[Bar]* Get the distribution of `DayofWeek` column\n",
    "1. *[BoxPlot]* Get the distribution of the `AvgSpeed` by `DayOfWeek`\n",
    "1. *[Line]* Plot the time series of the `MovingTime`\n",
    "\n",
    "Use `matplotlib` and `plotly`"
   ]
  },
  {
   "cell_type": "code",
   "execution_count": null,
   "id": "e552ad31-d6e8-4ef6-81f0-f1900c329036",
   "metadata": {},
   "outputs": [],
   "source": []
  }
 ],
 "metadata": {
  "kernelspec": {
   "display_name": "Python 3 (ipykernel)",
   "language": "python",
   "name": "python3"
  },
  "language_info": {
   "codemirror_mode": {
    "name": "ipython",
    "version": 3
   },
   "file_extension": ".py",
   "mimetype": "text/x-python",
   "name": "python",
   "nbconvert_exporter": "python",
   "pygments_lexer": "ipython3",
   "version": "3.10.11"
  },
  "toc-autonumbering": false,
  "toc-showmarkdowntxt": false
 },
 "nbformat": 4,
 "nbformat_minor": 5
}
