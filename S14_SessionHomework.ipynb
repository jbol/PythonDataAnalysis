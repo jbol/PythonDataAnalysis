{
 "cells": [
  {
   "cell_type": "markdown",
   "id": "c5d5073d-00e8-43a1-8a32-901ea90db1b3",
   "metadata": {},
   "source": [
    "<table border=\"0\" style=\"width:100%\">\n",
    " <tr>\n",
    "    <td>\n",
    "        <img src=\"https://static-frm.ie.edu/university/wp-content/uploads/sites/6/2022/06/IE-University-logo.png\" width=150>\n",
    "     </td>\n",
    "    <td><div style=\"font-family:'Courier New'\">\n",
    "            <div style=\"font-size:25px\">\n",
    "                <div style=\"text-align: right\"> \n",
    "                    <b> MASTER IN BIG DATA</b>\n",
    "                    <br>\n",
    "                    Python for Data Analysis I\n",
    "                    <br><br>\n",
    "                    <em> Daniel Sierra Ramos </em>\n",
    "                </div>\n",
    "            </div>\n",
    "        </div>\n",
    "    </td>\n",
    " </tr>\n",
    "</table>"
   ]
  },
  {
   "cell_type": "markdown",
   "id": "336e1848-f041-4dc9-9803-d3e062017280",
   "metadata": {},
   "source": [
    "# Exercise 1\n",
    "\n",
    "You are given four pandas DataFrames, `df_students`, `df_courses`, `df_grades`, and `df_schedule`, which contain information about students, courses, grades, and the course schedule. Your task is to perform exploratory data analysis by merging the DataFrames and answering a series of questions based on the data.\n",
    "\n",
    "1. Merge the DataFrames df_students, df_courses, and df_grades based on the appropriate columns.\n",
    "1. Determine the total number of students in each course.\n",
    "1. Calculate the average grade for each course.\n",
    "1. Find the student(s) with the highest grade in each course.\n",
    "1. Count the number of missing values in the resulting frame\n",
    "1. Determine the number of classes scheduled for each student.\n",
    "1. Identify any students who are not enrolled in any courses.\n",
    "1. Calculate the overall average grade for all students."
   ]
  },
  {
   "cell_type": "code",
   "execution_count": 1,
   "id": "31988998-7c54-4ea0-be53-be6fc43a06d3",
   "metadata": {},
   "outputs": [],
   "source": [
    "import pandas as pd\n",
    "\n",
    "df_students = pd.DataFrame({\n",
    "    'student_id': [1, 2, 3, 4],\n",
    "    'name': ['Alice', 'Bob', 'Charlie', 'David'],\n",
    "    'age': [19, 20, 18, 19]\n",
    "})\n",
    "\n",
    "df_courses = pd.DataFrame({\n",
    "    'course_id': [1, 2, 3, 4],\n",
    "    'course_name': ['Math', 'Science', 'History', 'English'],\n",
    "    'teacher': ['Mr. Smith', 'Mrs. Johnson', 'Mr. Johnson', 'Mr. Brown']\n",
    "})\n",
    "\n",
    "df_grades = pd.DataFrame({\n",
    "    'student_id': [1, 2, 3, 2, 4],\n",
    "    'course_id': [1, 2, 2, 3, 4],\n",
    "    'grade': [90, 85, 92, 88, 95]\n",
    "})\n",
    "\n",
    "df_schedule = pd.DataFrame({\n",
    "    'student_id': [1, 2, 3, 4, 2, 4],\n",
    "    'course_id': [1, 2, 3, 4, 4, 1],\n",
    "    'day': ['Monday', 'Tuesday', 'Wednesday', 'Thursday', 'Friday', 'Friday'],\n",
    "    'time': ['9:00 AM', '10:30 AM', '2:00 PM', '11:00 AM', '3:30 PM', '1:00 PM']\n",
    "})"
   ]
  },
  {
   "cell_type": "code",
   "execution_count": 9,
   "id": "28722076-eb05-4f7e-88c9-59fca2d8861a",
   "metadata": {},
   "outputs": [
    {
     "data": {
      "text/html": [
       "<div>\n",
       "<style scoped>\n",
       "    .dataframe tbody tr th:only-of-type {\n",
       "        vertical-align: middle;\n",
       "    }\n",
       "\n",
       "    .dataframe tbody tr th {\n",
       "        vertical-align: top;\n",
       "    }\n",
       "\n",
       "    .dataframe thead th {\n",
       "        text-align: right;\n",
       "    }\n",
       "</style>\n",
       "<table border=\"1\" class=\"dataframe\">\n",
       "  <thead>\n",
       "    <tr style=\"text-align: right;\">\n",
       "      <th></th>\n",
       "      <th>student_id</th>\n",
       "      <th>name</th>\n",
       "      <th>age</th>\n",
       "      <th>course_id</th>\n",
       "      <th>grade</th>\n",
       "      <th>course_name</th>\n",
       "      <th>teacher</th>\n",
       "      <th>day</th>\n",
       "      <th>time</th>\n",
       "    </tr>\n",
       "  </thead>\n",
       "  <tbody>\n",
       "    <tr>\n",
       "      <th>0</th>\n",
       "      <td>1</td>\n",
       "      <td>Alice</td>\n",
       "      <td>19</td>\n",
       "      <td>1</td>\n",
       "      <td>90</td>\n",
       "      <td>Math</td>\n",
       "      <td>Mr. Smith</td>\n",
       "      <td>Monday</td>\n",
       "      <td>9:00 AM</td>\n",
       "    </tr>\n",
       "    <tr>\n",
       "      <th>1</th>\n",
       "      <td>2</td>\n",
       "      <td>Bob</td>\n",
       "      <td>20</td>\n",
       "      <td>2</td>\n",
       "      <td>85</td>\n",
       "      <td>Science</td>\n",
       "      <td>Mrs. Johnson</td>\n",
       "      <td>Tuesday</td>\n",
       "      <td>10:30 AM</td>\n",
       "    </tr>\n",
       "    <tr>\n",
       "      <th>2</th>\n",
       "      <td>2</td>\n",
       "      <td>Bob</td>\n",
       "      <td>20</td>\n",
       "      <td>3</td>\n",
       "      <td>88</td>\n",
       "      <td>History</td>\n",
       "      <td>Mr. Johnson</td>\n",
       "      <td>NaN</td>\n",
       "      <td>NaN</td>\n",
       "    </tr>\n",
       "    <tr>\n",
       "      <th>3</th>\n",
       "      <td>3</td>\n",
       "      <td>Charlie</td>\n",
       "      <td>18</td>\n",
       "      <td>2</td>\n",
       "      <td>92</td>\n",
       "      <td>Science</td>\n",
       "      <td>Mrs. Johnson</td>\n",
       "      <td>NaN</td>\n",
       "      <td>NaN</td>\n",
       "    </tr>\n",
       "    <tr>\n",
       "      <th>4</th>\n",
       "      <td>4</td>\n",
       "      <td>David</td>\n",
       "      <td>19</td>\n",
       "      <td>4</td>\n",
       "      <td>95</td>\n",
       "      <td>English</td>\n",
       "      <td>Mr. Brown</td>\n",
       "      <td>Thursday</td>\n",
       "      <td>11:00 AM</td>\n",
       "    </tr>\n",
       "  </tbody>\n",
       "</table>\n",
       "</div>"
      ],
      "text/plain": [
       "   student_id     name  age  course_id  grade course_name       teacher  \\\n",
       "0           1    Alice   19          1     90        Math     Mr. Smith   \n",
       "1           2      Bob   20          2     85     Science  Mrs. Johnson   \n",
       "2           2      Bob   20          3     88     History   Mr. Johnson   \n",
       "3           3  Charlie   18          2     92     Science  Mrs. Johnson   \n",
       "4           4    David   19          4     95     English     Mr. Brown   \n",
       "\n",
       "        day      time  \n",
       "0    Monday   9:00 AM  \n",
       "1   Tuesday  10:30 AM  \n",
       "2       NaN       NaN  \n",
       "3       NaN       NaN  \n",
       "4  Thursday  11:00 AM  "
      ]
     },
     "execution_count": 9,
     "metadata": {},
     "output_type": "execute_result"
    }
   ],
   "source": [
    "# 1. Merge the DataFrames based on the appropriate columns\n",
    "merged_df = pd.merge(df_students, df_grades, on='student_id', how='left')\n",
    "merged_df = pd.merge(merged_df, df_courses, on='course_id', how='left')\n",
    "merged_df = pd.merge(merged_df, df_schedule, on=['student_id', 'course_id'], how='left')\n",
    "merged_df"
   ]
  },
  {
   "cell_type": "code",
   "execution_count": 6,
   "id": "5df4f66f-c529-4fbd-bcfc-a8b7b34bbed3",
   "metadata": {},
   "outputs": [
    {
     "data": {
      "text/plain": [
       "course_name\n",
       "Science    2\n",
       "English    1\n",
       "History    1\n",
       "Math       1\n",
       "dtype: int64"
      ]
     },
     "execution_count": 6,
     "metadata": {},
     "output_type": "execute_result"
    }
   ],
   "source": [
    "# 2. Determine the total number of students in each course.\n",
    "merged_df.value_counts(\"course_name\")"
   ]
  },
  {
   "cell_type": "code",
   "execution_count": 8,
   "id": "600a64cc-6828-4300-8768-cab78e9fe2bd",
   "metadata": {},
   "outputs": [
    {
     "data": {
      "text/plain": [
       "course_name\n",
       "English    95.0\n",
       "History    88.0\n",
       "Math       90.0\n",
       "Science    88.5\n",
       "Name: grade, dtype: float64"
      ]
     },
     "execution_count": 8,
     "metadata": {},
     "output_type": "execute_result"
    }
   ],
   "source": [
    "# 3. Calculate the average grade for each course.\n",
    "merged_df.groupby(\"course_name\")[\"grade\"].mean()"
   ]
  },
  {
   "cell_type": "code",
   "execution_count": 15,
   "id": "95352986-cbd5-4f3b-b103-abe2afa58725",
   "metadata": {},
   "outputs": [
    {
     "data": {
      "text/html": [
       "<div>\n",
       "<style scoped>\n",
       "    .dataframe tbody tr th:only-of-type {\n",
       "        vertical-align: middle;\n",
       "    }\n",
       "\n",
       "    .dataframe tbody tr th {\n",
       "        vertical-align: top;\n",
       "    }\n",
       "\n",
       "    .dataframe thead th {\n",
       "        text-align: right;\n",
       "    }\n",
       "</style>\n",
       "<table border=\"1\" class=\"dataframe\">\n",
       "  <thead>\n",
       "    <tr style=\"text-align: right;\">\n",
       "      <th></th>\n",
       "      <th>grade</th>\n",
       "      <th>name</th>\n",
       "    </tr>\n",
       "    <tr>\n",
       "      <th>course_name</th>\n",
       "      <th></th>\n",
       "      <th></th>\n",
       "    </tr>\n",
       "  </thead>\n",
       "  <tbody>\n",
       "    <tr>\n",
       "      <th>English</th>\n",
       "      <td>95</td>\n",
       "      <td>David</td>\n",
       "    </tr>\n",
       "    <tr>\n",
       "      <th>History</th>\n",
       "      <td>88</td>\n",
       "      <td>Bob</td>\n",
       "    </tr>\n",
       "    <tr>\n",
       "      <th>Math</th>\n",
       "      <td>90</td>\n",
       "      <td>Alice</td>\n",
       "    </tr>\n",
       "    <tr>\n",
       "      <th>Science</th>\n",
       "      <td>92</td>\n",
       "      <td>Charlie</td>\n",
       "    </tr>\n",
       "  </tbody>\n",
       "</table>\n",
       "</div>"
      ],
      "text/plain": [
       "             grade     name\n",
       "course_name                \n",
       "English         95    David\n",
       "History         88      Bob\n",
       "Math            90    Alice\n",
       "Science         92  Charlie"
      ]
     },
     "execution_count": 15,
     "metadata": {},
     "output_type": "execute_result"
    }
   ],
   "source": [
    "# 4. Find the student(s) with the highest grade in each course.\n",
    "sorted_df = merged_df.sort_values(\"grade\", ascending=False)\n",
    "sorted_df.groupby([\"course_name\"])[[\"grade\",\"name\"]].first()"
   ]
  },
  {
   "cell_type": "code",
   "execution_count": 18,
   "id": "71628e20-78b9-4c8d-a6e1-81613a300e11",
   "metadata": {},
   "outputs": [
    {
     "name": "stdout",
     "output_type": "stream",
     "text": [
      "<class 'pandas.core.frame.DataFrame'>\n",
      "Int64Index: 5 entries, 0 to 4\n",
      "Data columns (total 9 columns):\n",
      " #   Column       Non-Null Count  Dtype \n",
      "---  ------       --------------  ----- \n",
      " 0   student_id   5 non-null      int64 \n",
      " 1   name         5 non-null      object\n",
      " 2   age          5 non-null      int64 \n",
      " 3   course_id    5 non-null      int64 \n",
      " 4   grade        5 non-null      int64 \n",
      " 5   course_name  5 non-null      object\n",
      " 6   teacher      5 non-null      object\n",
      " 7   day          3 non-null      object\n",
      " 8   time         3 non-null      object\n",
      "dtypes: int64(4), object(5)\n",
      "memory usage: 400.0+ bytes\n"
     ]
    }
   ],
   "source": [
    "# 5. Count the number of missing values in the resulting frame\n",
    "merged_df.info()"
   ]
  },
  {
   "cell_type": "code",
   "execution_count": 24,
   "id": "78383dc2-be4f-4ef4-9903-ede82dfdb3b3",
   "metadata": {},
   "outputs": [
    {
     "data": {
      "text/html": [
       "<div>\n",
       "<style scoped>\n",
       "    .dataframe tbody tr th:only-of-type {\n",
       "        vertical-align: middle;\n",
       "    }\n",
       "\n",
       "    .dataframe tbody tr th {\n",
       "        vertical-align: top;\n",
       "    }\n",
       "\n",
       "    .dataframe thead th {\n",
       "        text-align: right;\n",
       "    }\n",
       "</style>\n",
       "<table border=\"1\" class=\"dataframe\">\n",
       "  <thead>\n",
       "    <tr style=\"text-align: right;\">\n",
       "      <th></th>\n",
       "      <th>class</th>\n",
       "    </tr>\n",
       "    <tr>\n",
       "      <th>name</th>\n",
       "      <th></th>\n",
       "    </tr>\n",
       "  </thead>\n",
       "  <tbody>\n",
       "    <tr>\n",
       "      <th>Alice</th>\n",
       "      <td>1</td>\n",
       "    </tr>\n",
       "    <tr>\n",
       "      <th>Bob</th>\n",
       "      <td>1</td>\n",
       "    </tr>\n",
       "    <tr>\n",
       "      <th>Charlie</th>\n",
       "      <td>0</td>\n",
       "    </tr>\n",
       "    <tr>\n",
       "      <th>David</th>\n",
       "      <td>1</td>\n",
       "    </tr>\n",
       "  </tbody>\n",
       "</table>\n",
       "</div>"
      ],
      "text/plain": [
       "         class\n",
       "name          \n",
       "Alice        1\n",
       "Bob          1\n",
       "Charlie      0\n",
       "David        1"
      ]
     },
     "execution_count": 24,
     "metadata": {},
     "output_type": "execute_result"
    }
   ],
   "source": [
    "# 6. Determine the number of classes scheduled for each student.\n",
    "merged_df[\"class\"] = merged_df.day + merged_df.time\n",
    "merged_df.groupby(\"name\")[[\"class\"]].count()"
   ]
  },
  {
   "cell_type": "code",
   "execution_count": 25,
   "id": "4b1f01f8-1133-4cec-8445-7d7fadb666da",
   "metadata": {},
   "outputs": [
    {
     "data": {
      "text/plain": [
       "name\n",
       "Alice      1\n",
       "Bob        2\n",
       "Charlie    1\n",
       "David      1\n",
       "Name: course_id, dtype: int64"
      ]
     },
     "execution_count": 25,
     "metadata": {},
     "output_type": "execute_result"
    }
   ],
   "source": [
    "# 7. Identify any students who are not enrolled in any courses.\n",
    "merged_df.groupby(\"name\")[\"course_id\"].size()"
   ]
  },
  {
   "cell_type": "code",
   "execution_count": 26,
   "id": "20cb1809-0d9f-4e7a-8311-c9e786c5ad47",
   "metadata": {},
   "outputs": [
    {
     "data": {
      "text/plain": [
       "90.0"
      ]
     },
     "execution_count": 26,
     "metadata": {},
     "output_type": "execute_result"
    }
   ],
   "source": [
    "# 8. Calculate the overall average grade for all students.\n",
    "merged_df.grade.mean()"
   ]
  },
  {
   "cell_type": "markdown",
   "id": "097843db-46e6-4d1e-8832-8799b90705cd",
   "metadata": {},
   "source": [
    "# Exercise 2\n",
    "\n",
    "You are given a pandas DataFrame `df_movies` that contains information about movie ratings. Your task is to perform exploratory data analysis and answer a series of questions.\n",
    "\n",
    "1. Calculate the average rating for each movie.\n",
    "1. Determine the number of ratings given to each movie.\n",
    "1. Identify the movie with the highest average rating.\n",
    "1. Calculate the average rating for each genre.\n",
    "1. Determine the number of movies in each genre.\n",
    "1. Identify the genre with the highest average rating.\n",
    "1. Calculate the correlation between movie ratings and movie budgets.\n",
    "1. Generate a bar plot of movie ratings."
   ]
  },
  {
   "cell_type": "code",
   "execution_count": 28,
   "id": "a315b190-8677-4b70-983e-09686ae4d73d",
   "metadata": {},
   "outputs": [],
   "source": [
    "df_movies = pd.DataFrame({\n",
    "    'movie_id': [1, 2, 3, 4, 5, 6, 7, 8, 9, 10],\n",
    "    'title': ['Movie A', 'Movie B', 'Movie C', 'Movie D', 'Movie E', 'Movie F', 'Movie G', 'Movie H', 'Movie I', 'Movie J'],\n",
    "    'genre': ['Action', 'Comedy', 'Drama', 'Comedy', 'Action', 'Drama', 'Action', 'Comedy', 'Drama', 'Action'],\n",
    "    'rating': [4.5, 3.8, 4.2, 4.1, 3.9, 4.6, 4.3, 3.7, 4.0, 4.4],\n",
    "    'num_ratings': [100, 75, 120, 95, 80, 110, 105, 70, 90, 115],\n",
    "    'budget': [1000000, 500000, 800000, 600000, 700000, 900000, 750000, 550000, 650000, 850000]\n",
    "})"
   ]
  },
  {
   "cell_type": "code",
   "execution_count": 34,
   "id": "65289503-8530-4c7d-879e-0faa5f4a6f41",
   "metadata": {},
   "outputs": [
    {
     "data": {
      "text/plain": [
       "<Axes: xlabel='title'>"
      ]
     },
     "execution_count": 34,
     "metadata": {},
     "output_type": "execute_result"
    },
    {
     "data": {
      "image/png": "[encoded data removed]",
      "text/plain": [
       "<Figure size 640x480 with 1 Axes>"
      ]
     },
     "metadata": {},
     "output_type": "display_data"
    }
   ],
   "source": [
    "import matplotlib.pyplot as plt\n",
    "\n",
    "# 1. Average rating for each movie\n",
    "average_rating_per_movie = df_movies.groupby('title')['rating'].mean()\n",
    "\n",
    "# 2. Number of ratings given to each movie\n",
    "number_of_ratings_per_movie = df_movies.groupby('title')['num_ratings'].sum()\n",
    "\n",
    "# 3. Movie with the highest average rating\n",
    "movie_with_highest_rating = df_movies.loc[df_movies['rating'].idxmax(), 'title']\n",
    "\n",
    "# 4. Average rating for each genre\n",
    "average_rating_per_genre = df_movies.groupby('genre')['rating'].mean()\n",
    "\n",
    "# 5. Number of movies in each genre\n",
    "number_of_movies_per_genre = df_movies.groupby('genre').size()\n",
    "\n",
    "# 6. Genre with the highest average rating\n",
    "genre_with_highest_rating = average_rating_per_genre.idxmax()\n",
    "\n",
    "# 7. Correlation between movie ratings and movie budgets\n",
    "correlation_rating_budget = df_movies['rating'].corr(df_movies['budget'])\n",
    "\n",
    "# 8. Histogram of movie ratings\n",
    "df_movies[['title','rating']].set_index('title').plot(kind=\"bar\", rot=45)"
   ]
  },
  {
   "cell_type": "markdown",
   "id": "cbb07b91-b169-4cd3-b04f-2003c6d83cd2",
   "metadata": {},
   "source": [
    "# Exercise 3\n",
    "\n",
    "You are given four pandas DataFrames: `df_customers`, `df_purchases`, `df_returns`, and `df_products`. These DataFrames contain information about customers, their purchases, returns, and product details in an online retail store. Your task is to merge and manipulate the DataFrames to answer a series of questions.\n",
    "\n",
    "1. Merge the DataFrames df_customers, df_purchases, df_returns, and df_products based on the appropriate columns.\n",
    "1. Calculate the total revenue generated by each customer, taking into account both purchases and returns.\n",
    "1. Determine the number of purchases made by each customer.\n",
    "1. Identify the most frequently returned product.\n",
    "1. Concatenate the df_purchases and df_returns DataFrames vertically to create a single DataFrame containing all transactions.\n",
    "1. Calculate the average unit price of each product across all transactions."
   ]
  },
  {
   "cell_type": "code",
   "execution_count": 10,
   "id": "bdff0fb9-0285-442b-9b6c-e0896cda4c63",
   "metadata": {},
   "outputs": [],
   "source": [
    "df_customers = pd.DataFrame({\n",
    "    'customer_id': [1, 2, 3, 4, 5, 6, 7, 8, 9, 10],\n",
    "    'name': ['Alice', 'Bob', 'Charlie', 'David', 'Eve', 'Frank', 'Grace', 'Henry', 'Isabella', 'Jack'],\n",
    "    'email': ['alice@example.com', 'bob@example.com', 'charlie@example.com', 'david@example.com',\n",
    "              'eve@example.com', 'frank@example.com', 'grace@example.com', 'henry@example.com',\n",
    "              'isabella@example.com', 'jack@example.com']\n",
    "})\n",
    "\n",
    "df_purchases = pd.DataFrame({\n",
    "    'customer_id': [1, 2, 3, 2, 4, 5, 1, 6, 7, 8],\n",
    "    'product_id': [1, 2, 3, 2, 1, 4, 1, 3, 2, 4],\n",
    "    'quantity': [2, 3, 1, 4, 2, 1, 3, 2, 1, 2],\n",
    "    'unit_price': [10.99, 19.99, 9.99, 15.99, 12.99, 8.99, 14.99, 11.99, 10.99, 13.99]\n",
    "})\n",
    "\n",
    "df_returns = pd.DataFrame({\n",
    "    'customer_id': [2, 3, 4, 1, 5, 6, 9],\n",
    "    'product_id': [2, 3, 1, 4, 1, 3, 2],\n",
    "    'quantity': [1, 1, 2, 1, 2, 1, 1]\n",
    "})\n",
    "\n",
    "df_products = pd.DataFrame({\n",
    "    'product_id': [1, 2, 3, 4],\n",
    "    'product_name': ['Widget A', 'Widget B', 'Widget C', 'Widget D'],\n",
    "    'category': ['Electronics', 'Electronics', 'Home', 'Home']\n",
    "})"
   ]
  },
  {
   "cell_type": "code",
   "execution_count": 11,
   "id": "258a73a6-f876-415e-9398-30e9bd2a25e7",
   "metadata": {},
   "outputs": [],
   "source": [
    "# 1. Merge the DataFrames based on the appropriate columns\n",
    "merged_df = pd.merge(df_customers, df_purchases, on='customer_id', how='left')\n",
    "merged_df = pd.merge(merged_df, df_returns, on=['customer_id', 'product_id'], how='left')\n",
    "merged_df = pd.merge(merged_df, df_products, on='product_id')\n",
    "\n",
    "# 2. Total revenue generated by each customer, considering both purchases and returns\n",
    "merged_df['revenue'] = merged_df['quantity_x'] * merged_df['unit_price']\n",
    "total_revenue_per_customer = merged_df.groupby('customer_id')['revenue'].sum()\n",
    "\n",
    "# 3. Number of purchases made by each customer\n",
    "number_of_purchases_per_customer = merged_df.groupby('customer_id').size()\n",
    "\n",
    "# 4. Most frequently returned product\n",
    "most_frequent_returned_product = merged_df['product_name'].value_counts().idxmax()\n",
    "\n",
    "# 5. Concatenate the `df_purchases` and `df_returns` DataFrames vertically\n",
    "transactions_df = pd.concat([df_purchases, df_returns], ignore_index=True)\n",
    "\n",
    "# 6. Average unit price of each product across all transactions\n",
    "average_unit_price_per_product = transactions_df.groupby('product_id')['unit_price'].mean()"
   ]
  }
 ],
 "metadata": {
  "kernelspec": {
   "display_name": "Python 3 (ipykernel)",
   "language": "python",
   "name": "python3"
  },
  "language_info": {
   "codemirror_mode": {
    "name": "ipython",
    "version": 3
   },
   "file_extension": ".py",
   "mimetype": "text/x-python",
   "name": "python",
   "nbconvert_exporter": "python",
   "pygments_lexer": "ipython3",
   "version": "3.10.11"
  }
 },
 "nbformat": 4,
 "nbformat_minor": 5
}
